{
  "cells": [
    {
      "cell_type": "code",
      "execution_count": 1,
      "metadata": {
        "colab": {
          "base_uri": "https://localhost:8080/"
        },
        "id": "mCh_0fwASxCe",
        "outputId": "2222dac1-27c5-4ecc-e1dc-5a0dc1242aa4"
      },
      "outputs": [
        {
          "output_type": "stream",
          "name": "stdout",
          "text": [
            "--2022-11-13 18:42:44--  https://btsd.ethz.ch/shareddata/BelgiumTSC/BelgiumTSC_Training.zip\n",
            "Resolving btsd.ethz.ch (btsd.ethz.ch)... 129.132.52.168, 2001:67c:10ec:36c2::168\n",
            "Connecting to btsd.ethz.ch (btsd.ethz.ch)|129.132.52.168|:443... connected.\n",
            "HTTP request sent, awaiting response... 200 OK\n",
            "Length: 174298785 (166M) [application/zip]\n",
            "Saving to: ‘BelgiumTSC_Training.zip’\n",
            "\n",
            "BelgiumTSC_Training 100%[===================>] 166.22M  6.38MB/s    in 27s     \n",
            "\n",
            "2022-11-13 18:43:12 (6.16 MB/s) - ‘BelgiumTSC_Training.zip’ saved [174298785/174298785]\n",
            "\n",
            "--2022-11-13 18:43:12--  https://btsd.ethz.ch/shareddata/BelgiumTSC/BelgiumTSC_Testing.zip\n",
            "Resolving btsd.ethz.ch (btsd.ethz.ch)... 129.132.52.168, 2001:67c:10ec:36c2::168\n",
            "Connecting to btsd.ethz.ch (btsd.ethz.ch)|129.132.52.168|:443... connected.\n",
            "HTTP request sent, awaiting response... 200 OK\n",
            "Length: 77877833 (74M) [application/zip]\n",
            "Saving to: ‘BelgiumTSC_Testing.zip’\n",
            "\n",
            "BelgiumTSC_Testing. 100%[===================>]  74.27M  6.24MB/s    in 13s     \n",
            "\n",
            "2022-11-13 18:43:25 (5.90 MB/s) - ‘BelgiumTSC_Testing.zip’ saved [77877833/77877833]\n",
            "\n"
          ]
        }
      ],
      "source": [
        "!wget https://btsd.ethz.ch/shareddata/BelgiumTSC/BelgiumTSC_Training.zip\n",
        "!wget https://btsd.ethz.ch/shareddata/BelgiumTSC/BelgiumTSC_Testing.zip\n"
      ]
    },
    {
      "cell_type": "code",
      "source": [
        "import zipfile\n",
        "with zipfile.ZipFile('/content/BelgiumTSC_Training.zip', 'r') as zip_ref:\n",
        "    zip_ref.extractall('/content/')"
      ],
      "metadata": {
        "id": "dHVYUmG8TpWc"
      },
      "execution_count": 3,
      "outputs": []
    },
    {
      "cell_type": "code",
      "source": [
        "import torch\n",
        "import numpy as np\n",
        "import torchvision.transforms as transforms\n",
        "import torchvision\n",
        "import torch.utils.data as td\n",
        "import matplotlib.pyplot as plt\n",
        "import torch.nn as nn\n",
        "from PIL import Image\n",
        "import torch.nn.functional as F\n",
        "import gc\n",
        "import torchvision.datasets as datasets\n",
        "\n",
        "\n",
        "\n",
        "preprocess = transforms.Compose([\n",
        "    transforms.Resize((224,224)),\n",
        "    transforms.ToTensor(),\n",
        "    transforms.Normalize(\n",
        "        mean=[0.4914, 0.4822, 0.4465],\n",
        "        std=[0.2023, 0.1994, 0.2010],\n",
        "    ),\n",
        "])\n",
        "train_path = \"/content/Training\"\n",
        "#test_path = \"/content/Testing\"\n",
        "\n",
        "#data set from https://btsd.ethz.ch/shareddata/\n",
        "data = torchvision.datasets.ImageFolder(root=train_path, transform=preprocess)\n",
        "\n",
        "#train_data_loader = torch.utils.data.DataLoader(train_data, batch_size=64, shuffle=True,  num_workers=0)\n",
        "\n",
        "train_size = int(0.8 * len(data))\n",
        "test_size = len(data) - train_size\n",
        "train_dataset, test_dataset = torch.utils.data.random_split(data, [train_size, test_size])\n",
        "train_data_loader = torch.utils.data.DataLoader(train_dataset, batch_size=64, shuffle=True,  num_workers=0)\n",
        "test_data_loader = torch.utils.data.DataLoader(test_dataset, batch_size=64, shuffle=True,  num_workers=0)"
      ],
      "metadata": {
        "id": "S1NkGRACTFd1"
      },
      "execution_count": 5,
      "outputs": []
    },
    {
      "cell_type": "code",
      "execution_count": 6,
      "metadata": {
        "id": "En_h1-h3SxCg"
      },
      "outputs": [],
      "source": [
        "class ResidualBlock(nn.Module):\n",
        "    def __init__(self, in_channels, out_channels, stride = 1, downsample = None):\n",
        "        super(ResidualBlock, self).__init__()\n",
        "        self.conv1 = nn.Sequential(\n",
        "                        nn.Conv2d(in_channels, out_channels, kernel_size = 3, stride = stride, padding = 1),\n",
        "                        nn.BatchNorm2d(out_channels),\n",
        "                        nn.ReLU())\n",
        "        self.conv2 = nn.Sequential(\n",
        "                        nn.Conv2d(out_channels, out_channels, kernel_size = 3, stride = 1, padding = 1),\n",
        "                        nn.BatchNorm2d(out_channels))\n",
        "        self.downsample = downsample\n",
        "        self.relu = nn.ReLU()\n",
        "        self.out_channels = out_channels\n",
        "        \n",
        "    def forward(self, x):\n",
        "        residual = x\n",
        "        out = self.conv1(x)\n",
        "        out = self.conv2(out)\n",
        "        if self.downsample:\n",
        "            residual = self.downsample(x)\n",
        "        out += residual\n",
        "        out = self.relu(out)\n",
        "        return out\n",
        "    \n",
        "class ResNet(nn.Module):\n",
        "    def __init__(self, block, layers, num_classes = 62):\n",
        "        super(ResNet, self).__init__()\n",
        "        self.inplanes = 64\n",
        "        self.conv1 = nn.Sequential(\n",
        "                        nn.Conv2d(3, 64, kernel_size = 7, stride = 2, padding = 3),\n",
        "                        nn.BatchNorm2d(64),\n",
        "                        nn.ReLU())\n",
        "        self.maxpool = nn.MaxPool2d(kernel_size = 3, stride = 2, padding = 1)\n",
        "        self.layer0 = self._make_layer(block, 64, layers[0], stride = 1)\n",
        "        self.layer1 = self._make_layer(block, 128, layers[1], stride = 2)\n",
        "        self.layer2 = self._make_layer(block, 256, layers[2], stride = 2)\n",
        "        self.layer3 = self._make_layer(block, 512, layers[3], stride = 2)\n",
        "        self.avgpool = nn.AvgPool2d(7, stride=1)\n",
        "        self.fc = nn.Linear(512, num_classes)\n",
        "        \n",
        "    def _make_layer(self, block, planes, blocks, stride=1):\n",
        "        downsample = None\n",
        "        if stride != 1 or self.inplanes != planes:\n",
        "            \n",
        "            downsample = nn.Sequential(\n",
        "                nn.Conv2d(self.inplanes, planes, kernel_size=1, stride=stride),\n",
        "                nn.BatchNorm2d(planes),\n",
        "            )\n",
        "        layers = []\n",
        "        layers.append(block(self.inplanes, planes, stride, downsample))\n",
        "        self.inplanes = planes\n",
        "        for i in range(1, blocks):\n",
        "            layers.append(block(self.inplanes, planes))\n",
        "\n",
        "        return nn.Sequential(*layers)\n",
        "    \n",
        "    \n",
        "    def forward(self, x):\n",
        "        x = self.conv1(x)\n",
        "        x = self.maxpool(x)\n",
        "        x = self.layer0(x)\n",
        "        x = self.layer1(x)\n",
        "        x = self.layer2(x)\n",
        "        x = self.layer3(x)\n",
        "\n",
        "        x = self.avgpool(x)\n",
        "        x = x.view(x.size(0), -1)\n",
        "        x = self.fc(x)\n",
        "\n",
        "        return x\n",
        "\n",
        "    num_classes = 62\n",
        "num_epochs = 20\n",
        "batch_size = 16\n",
        "learning_rate = 0.01\n",
        "use_cuda = torch.cuda.is_available()\n",
        "device = torch.device(\"cuda\" if use_cuda else \"cpu\")\n",
        "\n",
        "model = ResNet(ResidualBlock, [3, 4, 6, 3]).to(device)\n",
        "\n",
        "# Loss and optimizer\n",
        "criterion = nn.CrossEntropyLoss()\n",
        "#optimizer = torch.optim.SGD(model.parameters(), lr=learning_rate, weight_decay = 0.001, momentum = 0.9)  \n",
        "optimizer = torch.optim.SGD(model.parameters(), lr=learning_rate)\n",
        "\n",
        "# Train the model\n",
        "total_step = len(train_data_loader)\n",
        "training_accuracies = []\n",
        "training_losses = []\n",
        "test_accuracies = []\n",
        "test_losses = []"
      ]
    },
    {
      "cell_type": "code",
      "execution_count": null,
      "metadata": {
        "colab": {
          "base_uri": "https://localhost:8080/"
        },
        "id": "HLjWiTJvSxCh",
        "outputId": "61486f75-bdee-453a-a176-d5b008b2cd54"
      },
      "outputs": [
        {
          "output_type": "stream",
          "name": "stdout",
          "text": [
            "Training set: Epoch [1/20], Loss: 2.5078,  Accuracy: 41.67%, \n",
            "Test set: Epoch [1/20], Loss: 2.7122,  Accuracy: 33.22%, \n",
            "Training set: Epoch [2/20], Loss: 1.6949,  Accuracy: 50.00%, \n",
            "Test set: Epoch [2/20], Loss: 1.7247,  Accuracy: 55.63%, \n",
            "Training set: Epoch [3/20], Loss: 1.0967,  Accuracy: 75.00%, \n",
            "Test set: Epoch [3/20], Loss: 1.2546,  Accuracy: 60.44%, \n",
            "Training set: Epoch [4/20], Loss: 0.6641,  Accuracy: 91.67%, \n",
            "Test set: Epoch [4/20], Loss: 1.7590,  Accuracy: 77.49%, \n",
            "Training set: Epoch [5/20], Loss: 0.5184,  Accuracy: 83.33%, \n",
            "Test set: Epoch [5/20], Loss: 0.7061,  Accuracy: 82.84%, \n",
            "Training set: Epoch [6/20], Loss: 1.0672,  Accuracy: 66.67%, \n",
            "Test set: Epoch [6/20], Loss: 2.0314,  Accuracy: 68.31%, \n",
            "Training set: Epoch [7/20], Loss: 0.7900,  Accuracy: 75.00%, \n",
            "Test set: Epoch [7/20], Loss: 0.4725,  Accuracy: 81.09%, \n",
            "Training set: Epoch [8/20], Loss: 0.5016,  Accuracy: 75.00%, \n",
            "Test set: Epoch [8/20], Loss: 0.6602,  Accuracy: 86.23%, \n",
            "Training set: Epoch [9/20], Loss: 0.3504,  Accuracy: 100.00%, \n",
            "Test set: Epoch [9/20], Loss: 0.4220,  Accuracy: 87.98%, \n"
          ]
        }
      ],
      "source": [
        "for epoch in range(num_epochs):\n",
        "    for i, (images, labels) in enumerate(train_data_loader):  \n",
        "        # Move tensors to the configured device\n",
        "        images = images.to(device)\n",
        "        labels = labels.to(device)\n",
        "        \n",
        "        # Forward pass\n",
        "        outputs = model(images)\n",
        "        loss = criterion(outputs, labels)\n",
        "        \n",
        "        # Backward and optimize\n",
        "        optimizer.zero_grad()\n",
        "        loss.backward()\n",
        "        optimizer.step()\n",
        "        #accuracy\n",
        "    total = labels.size(0)\n",
        "    _,predicted = torch.max(outputs.data, 1)\n",
        "    correct = (predicted == labels).sum().item()\n",
        "    accuracy = (correct / total) * 100\n",
        "\n",
        "    del images, labels, outputs\n",
        "    torch.cuda.empty_cache()\n",
        "    gc.collect()\n",
        "    accuracy = (correct / total) * 100\n",
        "    training_accuracies.append(accuracy)\n",
        "    training_losses.append(loss.item())\n",
        "\n",
        "    print ('Training set: Epoch [{}/{}], Loss: {:.4f},  Accuracy: {:.2f}%, ' \n",
        "                .format(epoch+1, num_epochs, loss.item(), accuracy))\n",
        "\n",
        "    with torch.no_grad():\n",
        "        correct = 0\n",
        "        total = 0\n",
        "        for images, labels in test_data_loader:\n",
        "            images = images.to(device)\n",
        "            labels = labels.to(device)\n",
        "            outputs = model(images)\n",
        "            _, predicted = torch.max(outputs.data, 1)\n",
        "            total += labels.size(0)\n",
        "            correct += (predicted == labels).sum().item()\n",
        "            loss_test = criterion(outputs, labels)\n",
        "            del images, labels, outputs\n",
        "        accuracy = (correct / total) * 100    \n",
        "        test_accuracies.append(accuracy)\n",
        "        test_losses.append(loss_test.item())\n",
        "        print ('Test set: Epoch [{}/{}], Loss: {:.4f},  Accuracy: {:.2f}%, ' \n",
        "                    .format(epoch+1, num_epochs, loss_test.item(), accuracy))"
      ]
    },
    {
      "cell_type": "code",
      "execution_count": null,
      "metadata": {
        "id": "kfg9No6KSxCj"
      },
      "outputs": [],
      "source": []
    }
  ],
  "metadata": {
    "kernelspec": {
      "display_name": "Python 3.9.13 64-bit (microsoft store)",
      "language": "python",
      "name": "python3"
    },
    "language_info": {
      "codemirror_mode": {
        "name": "ipython",
        "version": 3
      },
      "file_extension": ".py",
      "mimetype": "text/x-python",
      "name": "python",
      "nbconvert_exporter": "python",
      "pygments_lexer": "ipython3",
      "version": "3.9.13"
    },
    "orig_nbformat": 4,
    "vscode": {
      "interpreter": {
        "hash": "d2a1693a8671055a53c2c6d410efa674a57679ce80639da1bc70e7756fb26035"
      }
    },
    "colab": {
      "provenance": []
    },
    "accelerator": "GPU",
    "gpuClass": "standard"
  },
  "nbformat": 4,
  "nbformat_minor": 0
}