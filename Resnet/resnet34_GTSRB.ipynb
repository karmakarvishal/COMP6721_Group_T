{
  "cells": [
    {
      "cell_type": "markdown",
      "metadata": {
        "id": "KHC8-85G--uf"
      },
      "source": []
    },
    {
      "cell_type": "code",
      "execution_count": null,
      "metadata": {
        "colab": {
          "base_uri": "https://localhost:8080/"
        },
        "id": "S1NkGRACTFd1",
        "outputId": "03f9c446-2e97-478f-95c1-13c25488a400"
      },
      "outputs": [
        {
          "name": "stdout",
          "output_type": "stream",
          "text": [
            "Train 26640\n",
            "TEST 12630\n"
          ]
        }
      ],
      "source": [
        "import torch\n",
        "import numpy as np\n",
        "import torchvision.transforms as transforms\n",
        "import torchvision\n",
        "import torch.utils.data as td\n",
        "import matplotlib.pyplot as plt\n",
        "import torch.nn as nn\n",
        "from PIL import Image\n",
        "import torch.nn.functional as F\n",
        "import gc\n",
        "import torchvision.datasets as datasets\n",
        "\n",
        "\n",
        "test_path = '/content/Testing'\n",
        "train_path = '/content/Training'\n",
        "\n",
        "preprocess = transforms.Compose([\n",
        "    transforms.Resize((224,224)),\n",
        "    transforms.ToTensor(),\n",
        "    transforms.Normalize(\n",
        "        mean=[0.4914, 0.4822, 0.4465],\n",
        "        std=[0.2023, 0.1994, 0.2010],\n",
        "    ),\n",
        "])\n",
        "\n",
        "\n",
        "\n",
        "\n",
        "train_dataset = datasets.GTSRB(\n",
        "        root='/content', split='train',\n",
        "        download=True, transform=preprocess,\n",
        "    )\n",
        "\n",
        "test_dataset = datasets.GTSRB(\n",
        "        root='/content', split='test',\n",
        "        download=True, transform=preprocess,\n",
        "    )\n",
        "\n",
        "\n",
        "train_dataLoader = torch.utils.data.DataLoader(train_dataset, batch_size=256, shuffle=True,  num_workers=2)\n",
        "print('Train',len(train_dataset))\n",
        "\n",
        "print('TEST',len(test_dataset))\n",
        "test_dataLoader = torch.utils.data.DataLoader(test_dataset, batch_size=256, shuffle=True,  num_workers=2)"
      ]
    },
    {
      "cell_type": "code",
      "execution_count": null,
      "metadata": {
        "id": "En_h1-h3SxCg"
      },
      "outputs": [],
      "source": [
        "class ResidualBlock(nn.Module):\n",
        "    def __init__(self, in_channels, out_channels, stride = 1, downsample = None):\n",
        "        super(ResidualBlock, self).__init__()\n",
        "        self.conv1 = nn.Sequential(\n",
        "                        nn.Conv2d(in_channels, out_channels, kernel_size = 3, stride = stride, padding = 1),\n",
        "                        nn.BatchNorm2d(out_channels),\n",
        "                        nn.ReLU())\n",
        "        self.conv2 = nn.Sequential(\n",
        "                        nn.Conv2d(out_channels, out_channels, kernel_size = 3, stride = 1, padding = 1),\n",
        "                        nn.BatchNorm2d(out_channels))\n",
        "        self.downsample = downsample\n",
        "        self.relu = nn.ReLU()\n",
        "        self.out_channels = out_channels\n",
        "        \n",
        "    def forward(self, x):\n",
        "        residual = x\n",
        "        out = self.conv1(x)\n",
        "        out = self.conv2(out)\n",
        "        if self.downsample:\n",
        "            residual = self.downsample(x)\n",
        "        out += residual\n",
        "        out = self.relu(out)\n",
        "        return out\n",
        "    \n",
        "class ResNet(nn.Module):\n",
        "    def __init__(self, block, layers, num_classes = 43):\n",
        "        super(ResNet, self).__init__()\n",
        "        self.inplanes = 64\n",
        "        self.conv1 = nn.Sequential(\n",
        "                        nn.Conv2d(3, 64, kernel_size = 7, stride = 2, padding = 3),\n",
        "                        nn.BatchNorm2d(64),\n",
        "                        nn.ReLU())\n",
        "        self.maxpool = nn.MaxPool2d(kernel_size = 3, stride = 2, padding = 1)\n",
        "        self.layer0 = self._make_layer(block, 64, layers[0], stride = 1)\n",
        "        self.layer1 = self._make_layer(block, 128, layers[1], stride = 2)\n",
        "        self.layer2 = self._make_layer(block, 256, layers[2], stride = 2)\n",
        "        self.layer3 = self._make_layer(block, 512, layers[3], stride = 2)\n",
        "        self.avgpool = nn.AvgPool2d(7, stride=1)\n",
        "        self.fc = nn.Linear(512, num_classes)\n",
        "        \n",
        "    def _make_layer(self, block, planes, blocks, stride=1):\n",
        "        downsample = None\n",
        "        if stride != 1 or self.inplanes != planes:\n",
        "            \n",
        "            downsample = nn.Sequential(\n",
        "                nn.Conv2d(self.inplanes, planes, kernel_size=1, stride=stride),\n",
        "                nn.BatchNorm2d(planes),\n",
        "            )\n",
        "        layers = []\n",
        "        layers.append(block(self.inplanes, planes, stride, downsample))\n",
        "        self.inplanes = planes\n",
        "        for i in range(1, blocks):\n",
        "            layers.append(block(self.inplanes, planes))\n",
        "\n",
        "        return nn.Sequential(*layers)\n",
        "    \n",
        "    \n",
        "    def forward(self, x):\n",
        "        x = self.conv1(x)\n",
        "        x = self.maxpool(x)\n",
        "        x = self.layer0(x)\n",
        "        x = self.layer1(x)\n",
        "        x = self.layer2(x)\n",
        "        x = self.layer3(x)\n",
        "\n",
        "        x = self.avgpool(x)\n",
        "        x = x.view(x.size(0), -1)\n",
        "        x = self.fc(x)\n",
        "\n",
        "        return x\n",
        "\n",
        "    num_classes = 43\n",
        "num_epochs = 20\n",
        "batch_size = 16\n",
        "learning_rate = 0.01\n",
        "use_cuda = torch.cuda.is_available()\n",
        "device = torch.device(\"cuda\" if use_cuda else \"cpu\")\n",
        "\n",
        "model = ResNet(ResidualBlock, [3, 4, 6, 3]).to(device)\n",
        "\n",
        "# Loss and optimizer\n",
        "criterion = nn.CrossEntropyLoss()\n",
        "#optimizer = torch.optim.SGD(model.parameters(), lr=learning_rate, weight_decay = 0.001, momentum = 0.9)  \n",
        "optimizer = torch.optim.SGD(model.parameters(), lr=learning_rate)\n",
        "\n",
        "# Train the model\n",
        "total_step = len(train_dataLoader)\n",
        "training_accuracies = []\n",
        "training_losses = []\n",
        "test_accuracies = []\n",
        "test_losses = []"
      ]
    },
    {
      "cell_type": "code",
      "execution_count": null,
      "metadata": {
        "colab": {
          "base_uri": "https://localhost:8080/"
        },
        "id": "HLjWiTJvSxCh",
        "outputId": "374c3779-069b-48dd-f06d-17fe9b6a2cd7"
      },
      "outputs": [
        {
          "name": "stdout",
          "output_type": "stream",
          "text": [
            "Training set: Epoch [1/20], Loss: 2.6172,  Accuracy: 31.25%, \n",
            "Test set: Epoch [1/20], Loss: 3.2359,  Accuracy: 15.00%, \n",
            "Training set: Epoch [2/20], Loss: 1.5943,  Accuracy: 50.00%, \n",
            "Test set: Epoch [2/20], Loss: 2.9287,  Accuracy: 27.79%, \n",
            "Training set: Epoch [3/20], Loss: 0.9310,  Accuracy: 68.75%, \n",
            "Test set: Epoch [3/20], Loss: 1.4719,  Accuracy: 46.27%, \n",
            "Training set: Epoch [4/20], Loss: 0.8341,  Accuracy: 81.25%, \n",
            "Test set: Epoch [4/20], Loss: 2.0556,  Accuracy: 58.36%, \n",
            "Training set: Epoch [5/20], Loss: 0.6277,  Accuracy: 81.25%, \n",
            "Test set: Epoch [5/20], Loss: 3.7545,  Accuracy: 33.15%, \n",
            "Training set: Epoch [6/20], Loss: 0.2586,  Accuracy: 93.75%, \n",
            "Test set: Epoch [6/20], Loss: 1.7673,  Accuracy: 55.68%, \n",
            "Training set: Epoch [7/20], Loss: 0.1196,  Accuracy: 100.00%, \n",
            "Test set: Epoch [7/20], Loss: 0.6538,  Accuracy: 81.78%, \n",
            "Training set: Epoch [8/20], Loss: 0.0663,  Accuracy: 100.00%, \n",
            "Test set: Epoch [8/20], Loss: 0.7022,  Accuracy: 86.33%, \n",
            "Training set: Epoch [9/20], Loss: 0.3001,  Accuracy: 93.75%, \n",
            "Test set: Epoch [9/20], Loss: 1.5115,  Accuracy: 68.61%, \n",
            "Training set: Epoch [10/20], Loss: 0.0394,  Accuracy: 100.00%, \n",
            "Test set: Epoch [10/20], Loss: 0.5701,  Accuracy: 87.58%, \n",
            "Training set: Epoch [11/20], Loss: 0.0390,  Accuracy: 100.00%, \n",
            "Test set: Epoch [11/20], Loss: 0.3334,  Accuracy: 90.21%, \n",
            "Training set: Epoch [12/20], Loss: 0.0359,  Accuracy: 100.00%, \n",
            "Test set: Epoch [12/20], Loss: 0.3024,  Accuracy: 90.82%, \n",
            "Training set: Epoch [13/20], Loss: 0.0728,  Accuracy: 100.00%, \n",
            "Test set: Epoch [13/20], Loss: 1.9915,  Accuracy: 65.96%, \n",
            "Training set: Epoch [14/20], Loss: 0.0356,  Accuracy: 100.00%, \n",
            "Test set: Epoch [14/20], Loss: 0.4364,  Accuracy: 90.68%, \n",
            "Training set: Epoch [15/20], Loss: 0.0556,  Accuracy: 100.00%, \n",
            "Test set: Epoch [15/20], Loss: 0.2560,  Accuracy: 90.21%, \n",
            "Training set: Epoch [16/20], Loss: 0.0638,  Accuracy: 93.75%, \n",
            "Test set: Epoch [16/20], Loss: 0.4232,  Accuracy: 79.37%, \n",
            "Training set: Epoch [17/20], Loss: 0.1057,  Accuracy: 100.00%, \n",
            "Test set: Epoch [17/20], Loss: 0.8821,  Accuracy: 76.88%, \n",
            "Training set: Epoch [18/20], Loss: 0.1890,  Accuracy: 93.75%, \n",
            "Test set: Epoch [18/20], Loss: 1.1818,  Accuracy: 80.44%, \n",
            "Training set: Epoch [19/20], Loss: 0.1598,  Accuracy: 100.00%, \n",
            "Test set: Epoch [19/20], Loss: 0.5965,  Accuracy: 81.08%, \n",
            "Training set: Epoch [20/20], Loss: 0.0304,  Accuracy: 100.00%, \n",
            "Test set: Epoch [20/20], Loss: 0.2471,  Accuracy: 92.38%, \n"
          ]
        }
      ],
      "source": [
        "for epoch in range(num_epochs):\n",
        "    for i, (images, labels) in enumerate(train_dataLoader):  \n",
        "        # Move tensors to the configured device\n",
        "        images = images.to(device)\n",
        "        labels = labels.to(device)\n",
        "        \n",
        "        # Forward pass\n",
        "        outputs = model(images)\n",
        "        loss = criterion(outputs, labels)\n",
        "        \n",
        "        # Backward and optimize\n",
        "        optimizer.zero_grad()\n",
        "        loss.backward()\n",
        "        optimizer.step()\n",
        "        #accuracy\n",
        "    total = labels.size(0)\n",
        "    _,predicted = torch.max(outputs.data, 1)\n",
        "    correct = (predicted == labels).sum().item()\n",
        "    accuracy = (correct / total) * 100\n",
        "\n",
        "    del images, labels, outputs\n",
        "    torch.cuda.empty_cache()\n",
        "    gc.collect()\n",
        "    accuracy = (correct / total) * 100\n",
        "    training_accuracies.append(accuracy)\n",
        "    training_losses.append(loss.item())\n",
        "\n",
        "    print ('Training set: Epoch [{}/{}], Loss: {:.4f},  Accuracy: {:.2f}%, ' \n",
        "                .format(epoch+1, num_epochs, loss.item(), accuracy))\n",
        "\n",
        "    with torch.no_grad():\n",
        "        correct = 0\n",
        "        total = 0\n",
        "        for images, labels in test_dataLoader:\n",
        "            images = images.to(device)\n",
        "            labels = labels.to(device)\n",
        "            outputs = model(images)\n",
        "            _, predicted = torch.max(outputs.data, 1)\n",
        "            total += labels.size(0)\n",
        "            correct += (predicted == labels).sum().item()\n",
        "            loss_test = criterion(outputs, labels)\n",
        "            del images, labels, outputs\n",
        "        accuracy = (correct / total) * 100    \n",
        "        test_accuracies.append(accuracy)\n",
        "        test_losses.append(loss_test.item())\n",
        "        print ('Test set: Epoch [{}/{}], Loss: {:.4f},  Accuracy: {:.2f}%, ' \n",
        "                    .format(epoch+1, num_epochs, loss_test.item(), accuracy))"
      ]
    },
    {
      "cell_type": "code",
      "execution_count": null,
      "metadata": {
        "colab": {
          "base_uri": "https://localhost:8080/"
        },
        "id": "kfg9No6KSxCj",
        "outputId": "c943032f-0b7a-4b43-b016-c12fdfb2c8a9"
      },
      "outputs": [
        {
          "name": "stdout",
          "output_type": "stream",
          "text": [
            "training losses:[2.6171932220458984, 1.5942881107330322, 0.9310141801834106, 0.8341421484947205, 0.6277495622634888, 0.2586292028427124, 0.11962597072124481, 0.06626647710800171, 0.300148069858551, 0.039431288838386536, 0.039000410586595535, 0.03585750237107277, 0.07277382165193558, 0.03557943180203438, 0.05555744469165802, 0.063791923224926, 0.10568579286336899, 0.18903960287570953, 0.1597646027803421, 0.03042464889585972]\n",
            "training accuracies:[31.25, 50.0, 68.75, 81.25, 81.25, 93.75, 100.0, 100.0, 93.75, 100.0, 100.0, 100.0, 100.0, 100.0, 100.0, 93.75, 100.0, 93.75, 100.0, 100.0]\n",
            "test losses:[3.2358694076538086, 2.9286601543426514, 1.471924066543579, 2.0555505752563477, 3.7545244693756104, 1.767329216003418, 0.6538029313087463, 0.7022203207015991, 1.5114637613296509, 0.5701111555099487, 0.3333728015422821, 0.30241963267326355, 1.9915285110473633, 0.43640434741973877, 0.2559519112110138, 0.423153817653656, 0.8821278810501099, 1.18180513381958, 0.5965354442596436, 0.2471122145652771]\n",
            "test accuracies:[14.996041171813143, 27.790973871733964, 46.270783847980994, 58.36104513064133, 33.151227236737924, 55.67695961995249, 81.78147268408551, 86.3341250989707, 68.61441013460016, 87.57719714964371, 90.21377672209027, 90.81551860649247, 65.96199524940619, 90.68091844813935, 90.20585906571654, 79.37450514647665, 76.88044338875693, 80.44338875692794, 81.08471892319872, 92.37529691211401]\n"
          ]
        }
      ],
      "source": [
        "print(f\"training losses:{training_losses}\")\n",
        "print(f\"training accuracies:{training_accuracies}\")\n",
        "print(f\"test losses:{test_losses}\")\n",
        "print(f\"test accuracies:{test_accuracies}\")"
      ]
    }
  ],
  "metadata": {
    "accelerator": "GPU",
    "colab": {
      "provenance": []
    },
    "gpuClass": "standard",
    "kernelspec": {
      "display_name": "Python 3.9.12 ('base')",
      "language": "python",
      "name": "python3"
    },
    "language_info": {
      "codemirror_mode": {
        "name": "ipython",
        "version": 3
      },
      "file_extension": ".py",
      "mimetype": "text/x-python",
      "name": "python",
      "nbconvert_exporter": "python",
      "pygments_lexer": "ipython3",
      "version": "3.9.12"
    },
    "orig_nbformat": 4,
    "vscode": {
      "interpreter": {
        "hash": "7cfc025ceceff32cb35ea2f2d9774b05621757ec95f72f3d845287f26358ffe2"
      }
    }
  },
  "nbformat": 4,
  "nbformat_minor": 0
}
