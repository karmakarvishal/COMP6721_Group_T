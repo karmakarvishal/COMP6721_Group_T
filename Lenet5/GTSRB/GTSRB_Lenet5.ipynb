{
  "cells": [
    {
      "cell_type": "code",
      "execution_count": 104,
      "metadata": {
        "id": "EsqyXmxI1NkP"
      },
      "outputs": [],
      "source": [
        "# Loading required dependencies\n",
        "import torch\n",
        "import torch.nn as nn\n",
        "import torchvision\n",
        "import torchvision.transforms as transforms\n",
        "import time"
      ]
    },
    {
      "cell_type": "code",
      "execution_count": 105,
      "metadata": {
        "id": "Kvl7OOm-2BjR"
      },
      "outputs": [],
      "source": [
        "# Define relevant variables for the ML task\n",
        "batch_size = 256\n",
        "num_classes = 43\n",
        "learning_rate = 0.0001\n",
        "num_epochs = 20\n",
        "\n",
        "# Device will determine whether to run the training on GPU or CPU.\n",
        "device = torch.device('cuda' if torch.cuda.is_available() else 'cpu')"
      ]
    },
    {
      "cell_type": "code",
      "execution_count": 106,
      "metadata": {
        "id": "ps5wDOZ6_oBQ"
      },
      "outputs": [],
      "source": [
        "#Loading the dataset and preprocessing\n",
        "train_dataset = torchvision.datasets.GTSRB(root = './data',\n",
        "                                           split = 'train',\n",
        "                                           transform = transforms.Compose([\n",
        "                                                  transforms.Resize((32,32)),\n",
        "                                                  transforms.ToTensor(),\n",
        "                                                  transforms.Normalize(mean = (0.1307,), std = (0.3081,))]),\n",
        "                                           download = True)\n",
        "\n",
        "\n",
        "test_dataset = torchvision.datasets.GTSRB(root = './data',\n",
        "                                          split = 'test',\n",
        "                                          transform = transforms.Compose([\n",
        "                                                  transforms.Resize((32,32)),\n",
        "                                                  transforms.ToTensor(),\n",
        "                                                  transforms.Normalize(mean = (0.1325,), std = (0.3105,))]),\n",
        "                                          download=True)\n",
        "\n",
        "\n",
        "train_loader = torch.utils.data.DataLoader(dataset = train_dataset,\n",
        "                                           batch_size = batch_size,\n",
        "                                           shuffle = True)\n",
        "\n",
        "\n",
        "test_loader = torch.utils.data.DataLoader(dataset = test_dataset,\n",
        "                                           batch_size = batch_size,\n",
        "                                           shuffle = True)"
      ]
    },
    {
      "cell_type": "code",
      "execution_count": 107,
      "metadata": {
        "id": "NTN_saj-_wYe"
      },
      "outputs": [],
      "source": [
        "#Defining the convolutional neural network\n",
        "class LeNet5(nn.Module):\n",
        "    def __init__(self, num_classes):\n",
        "        super(LeNet5, self).__init__()\n",
        "        self.layer1 = nn.Sequential(\n",
        "            nn.Conv2d(3, 6, kernel_size=5, stride=1, padding=0),\n",
        "            nn.BatchNorm2d(6),\n",
        "            nn.ReLU(),\n",
        "            nn.MaxPool2d(kernel_size = 2, stride = 2))\n",
        "        self.layer2 = nn.Sequential(\n",
        "            nn.Conv2d(6, 16, kernel_size=5, stride=1, padding=0),\n",
        "            nn.BatchNorm2d(16),\n",
        "            nn.ReLU(),\n",
        "            nn.MaxPool2d(kernel_size = 2, stride = 2))\n",
        "        self.fc = nn.Linear(400, 120)\n",
        "        self.relu = nn.ReLU()\n",
        "        self.fc1 = nn.Linear(120, 84)\n",
        "        self.relu1 = nn.ReLU()\n",
        "        self.fc2 = nn.Linear(84, num_classes)\n",
        "        \n",
        "    def forward(self, x):\n",
        "        out = self.layer1(x)\n",
        "        out = self.layer2(out)\n",
        "        out = out.reshape(out.size(0), -1)\n",
        "        out = self.fc(out)\n",
        "        out = self.relu(out)\n",
        "        out = self.fc1(out)\n",
        "        out = self.relu1(out)\n",
        "        out = self.fc2(out)\n",
        "        return out"
      ]
    },
    {
      "cell_type": "code",
      "execution_count": 108,
      "metadata": {
        "id": "nhooLcG9A08G"
      },
      "outputs": [],
      "source": [
        "model = LeNet5(num_classes).to(device)\n",
        "\n",
        "#Setting the loss function\n",
        "cost = nn.CrossEntropyLoss()\n",
        "\n",
        "#Setting the optimizer with the model parameters and learning rate\n",
        "optimizer = torch.optim.Adam(model.parameters(), lr=learning_rate)\n",
        "\n",
        "#this is defined to print how many steps are remaining when training\n",
        "total_step = len(train_loader)"
      ]
    },
    {
      "cell_type": "code",
      "execution_count": 109,
      "metadata": {
        "colab": {
          "base_uri": "https://localhost:8080/"
        },
        "id": "of1jM7bDA68B",
        "outputId": "fe56640d-64f5-4fe0-cefd-43fa92c1ebde"
      },
      "outputs": [
        {
          "output_type": "stream",
          "name": "stdout",
          "text": [
            "Device: cuda:0\n",
            "Epoch [1/20], Step [15/105], Loss: 3.6955, Accuracy: 5.86%\n",
            "Epoch [1/20], Step [30/105], Loss: 3.6388, Accuracy: 7.42%\n",
            "Epoch [1/20], Step [45/105], Loss: 3.5396, Accuracy: 13.67%\n",
            "Epoch [1/20], Step [60/105], Loss: 3.5091, Accuracy: 6.64%\n",
            "Epoch [1/20], Step [75/105], Loss: 3.3926, Accuracy: 7.03%\n",
            "Epoch [1/20], Step [90/105], Loss: 3.3333, Accuracy: 12.50%\n",
            "Epoch [1/20], Step [105/105], Loss: 2.9995, Accuracy: 37.50%\n",
            "Epoch [2/20], Step [15/105], Loss: 3.1454, Accuracy: 18.36%\n",
            "Epoch [2/20], Step [30/105], Loss: 2.8746, Accuracy: 34.77%\n",
            "Epoch [2/20], Step [45/105], Loss: 2.7822, Accuracy: 32.42%\n",
            "Epoch [2/20], Step [60/105], Loss: 2.7106, Accuracy: 39.06%\n",
            "Epoch [2/20], Step [75/105], Loss: 2.7479, Accuracy: 35.55%\n",
            "Epoch [2/20], Step [90/105], Loss: 2.5872, Accuracy: 33.20%\n",
            "Epoch [2/20], Step [105/105], Loss: 2.3666, Accuracy: 43.75%\n",
            "Epoch [3/20], Step [15/105], Loss: 2.2436, Accuracy: 44.14%\n",
            "Epoch [3/20], Step [30/105], Loss: 2.2590, Accuracy: 43.36%\n",
            "Epoch [3/20], Step [45/105], Loss: 2.0981, Accuracy: 44.53%\n",
            "Epoch [3/20], Step [60/105], Loss: 2.1438, Accuracy: 43.75%\n",
            "Epoch [3/20], Step [75/105], Loss: 2.0867, Accuracy: 43.36%\n",
            "Epoch [3/20], Step [90/105], Loss: 1.9397, Accuracy: 48.05%\n",
            "Epoch [3/20], Step [105/105], Loss: 1.9593, Accuracy: 43.75%\n",
            "Epoch [4/20], Step [15/105], Loss: 1.7644, Accuracy: 52.34%\n",
            "Epoch [4/20], Step [30/105], Loss: 1.7496, Accuracy: 54.30%\n",
            "Epoch [4/20], Step [45/105], Loss: 1.6754, Accuracy: 53.91%\n",
            "Epoch [4/20], Step [60/105], Loss: 1.7386, Accuracy: 50.78%\n",
            "Epoch [4/20], Step [75/105], Loss: 1.7827, Accuracy: 50.39%\n",
            "Epoch [4/20], Step [90/105], Loss: 1.6042, Accuracy: 55.08%\n",
            "Epoch [4/20], Step [105/105], Loss: 1.0978, Accuracy: 75.00%\n",
            "Epoch [5/20], Step [15/105], Loss: 1.5584, Accuracy: 54.69%\n",
            "Epoch [5/20], Step [30/105], Loss: 1.5097, Accuracy: 58.98%\n",
            "Epoch [5/20], Step [45/105], Loss: 1.4227, Accuracy: 62.50%\n",
            "Epoch [5/20], Step [60/105], Loss: 1.3741, Accuracy: 67.97%\n",
            "Epoch [5/20], Step [75/105], Loss: 1.3965, Accuracy: 63.67%\n",
            "Epoch [5/20], Step [90/105], Loss: 1.2944, Accuracy: 67.97%\n",
            "Epoch [5/20], Step [105/105], Loss: 1.4768, Accuracy: 56.25%\n",
            "Epoch [6/20], Step [15/105], Loss: 1.2788, Accuracy: 68.36%\n",
            "Epoch [6/20], Step [30/105], Loss: 1.2093, Accuracy: 68.75%\n",
            "Epoch [6/20], Step [45/105], Loss: 1.2147, Accuracy: 74.22%\n",
            "Epoch [6/20], Step [60/105], Loss: 1.2953, Accuracy: 64.06%\n",
            "Epoch [6/20], Step [75/105], Loss: 1.1678, Accuracy: 69.53%\n",
            "Epoch [6/20], Step [90/105], Loss: 1.1534, Accuracy: 70.70%\n",
            "Epoch [6/20], Step [105/105], Loss: 1.2450, Accuracy: 62.50%\n",
            "Epoch [7/20], Step [15/105], Loss: 1.1040, Accuracy: 72.27%\n",
            "Epoch [7/20], Step [30/105], Loss: 1.0151, Accuracy: 74.22%\n",
            "Epoch [7/20], Step [45/105], Loss: 1.0497, Accuracy: 73.05%\n",
            "Epoch [7/20], Step [60/105], Loss: 1.0500, Accuracy: 71.88%\n",
            "Epoch [7/20], Step [75/105], Loss: 1.0092, Accuracy: 73.83%\n",
            "Epoch [7/20], Step [90/105], Loss: 0.9884, Accuracy: 75.78%\n",
            "Epoch [7/20], Step [105/105], Loss: 0.8270, Accuracy: 81.25%\n",
            "Epoch [8/20], Step [15/105], Loss: 0.8326, Accuracy: 78.12%\n",
            "Epoch [8/20], Step [30/105], Loss: 0.8496, Accuracy: 81.25%\n",
            "Epoch [8/20], Step [45/105], Loss: 0.8614, Accuracy: 77.34%\n",
            "Epoch [8/20], Step [60/105], Loss: 0.7959, Accuracy: 82.03%\n",
            "Epoch [8/20], Step [75/105], Loss: 0.8096, Accuracy: 79.69%\n",
            "Epoch [8/20], Step [90/105], Loss: 0.8751, Accuracy: 80.08%\n",
            "Epoch [8/20], Step [105/105], Loss: 1.1949, Accuracy: 62.50%\n",
            "Epoch [9/20], Step [15/105], Loss: 0.7765, Accuracy: 82.81%\n",
            "Epoch [9/20], Step [30/105], Loss: 0.7852, Accuracy: 79.69%\n",
            "Epoch [9/20], Step [45/105], Loss: 0.7213, Accuracy: 83.59%\n",
            "Epoch [9/20], Step [60/105], Loss: 0.6595, Accuracy: 85.55%\n",
            "Epoch [9/20], Step [75/105], Loss: 0.7643, Accuracy: 83.59%\n",
            "Epoch [9/20], Step [90/105], Loss: 0.7111, Accuracy: 81.64%\n",
            "Epoch [9/20], Step [105/105], Loss: 0.6253, Accuracy: 81.25%\n",
            "Epoch [10/20], Step [15/105], Loss: 0.5886, Accuracy: 85.55%\n",
            "Epoch [10/20], Step [30/105], Loss: 0.6677, Accuracy: 83.59%\n",
            "Epoch [10/20], Step [45/105], Loss: 0.5569, Accuracy: 85.55%\n",
            "Epoch [10/20], Step [60/105], Loss: 0.6151, Accuracy: 85.94%\n",
            "Epoch [10/20], Step [75/105], Loss: 0.6519, Accuracy: 84.38%\n",
            "Epoch [10/20], Step [90/105], Loss: 0.6470, Accuracy: 86.33%\n",
            "Epoch [10/20], Step [105/105], Loss: 0.6899, Accuracy: 81.25%\n",
            "Epoch [11/20], Step [15/105], Loss: 0.5407, Accuracy: 89.45%\n",
            "Epoch [11/20], Step [30/105], Loss: 0.5051, Accuracy: 89.84%\n",
            "Epoch [11/20], Step [45/105], Loss: 0.5859, Accuracy: 88.67%\n",
            "Epoch [11/20], Step [60/105], Loss: 0.5255, Accuracy: 87.89%\n",
            "Epoch [11/20], Step [75/105], Loss: 0.5418, Accuracy: 85.16%\n",
            "Epoch [11/20], Step [90/105], Loss: 0.4955, Accuracy: 89.06%\n",
            "Epoch [11/20], Step [105/105], Loss: 0.8038, Accuracy: 68.75%\n",
            "Epoch [12/20], Step [15/105], Loss: 0.4731, Accuracy: 88.28%\n",
            "Epoch [12/20], Step [30/105], Loss: 0.4885, Accuracy: 91.02%\n",
            "Epoch [12/20], Step [45/105], Loss: 0.5088, Accuracy: 88.28%\n",
            "Epoch [12/20], Step [60/105], Loss: 0.4312, Accuracy: 90.23%\n",
            "Epoch [12/20], Step [75/105], Loss: 0.5107, Accuracy: 88.67%\n",
            "Epoch [12/20], Step [90/105], Loss: 0.5824, Accuracy: 85.94%\n",
            "Epoch [12/20], Step [105/105], Loss: 0.5930, Accuracy: 81.25%\n",
            "Epoch [13/20], Step [15/105], Loss: 0.4693, Accuracy: 88.67%\n",
            "Epoch [13/20], Step [30/105], Loss: 0.4765, Accuracy: 89.06%\n",
            "Epoch [13/20], Step [45/105], Loss: 0.4548, Accuracy: 90.23%\n",
            "Epoch [13/20], Step [60/105], Loss: 0.4498, Accuracy: 90.23%\n",
            "Epoch [13/20], Step [75/105], Loss: 0.4572, Accuracy: 87.50%\n",
            "Epoch [13/20], Step [90/105], Loss: 0.4690, Accuracy: 90.23%\n",
            "Epoch [13/20], Step [105/105], Loss: 0.3388, Accuracy: 93.75%\n",
            "Epoch [14/20], Step [15/105], Loss: 0.4164, Accuracy: 90.62%\n",
            "Epoch [14/20], Step [30/105], Loss: 0.4492, Accuracy: 89.84%\n",
            "Epoch [14/20], Step [45/105], Loss: 0.4374, Accuracy: 90.62%\n",
            "Epoch [14/20], Step [60/105], Loss: 0.3477, Accuracy: 93.75%\n",
            "Epoch [14/20], Step [75/105], Loss: 0.3400, Accuracy: 93.75%\n",
            "Epoch [14/20], Step [90/105], Loss: 0.3998, Accuracy: 91.80%\n",
            "Epoch [14/20], Step [105/105], Loss: 0.2236, Accuracy: 100.00%\n",
            "Epoch [15/20], Step [15/105], Loss: 0.3120, Accuracy: 96.48%\n",
            "Epoch [15/20], Step [30/105], Loss: 0.4084, Accuracy: 91.41%\n",
            "Epoch [15/20], Step [45/105], Loss: 0.3295, Accuracy: 92.97%\n",
            "Epoch [15/20], Step [60/105], Loss: 0.3367, Accuracy: 92.58%\n",
            "Epoch [15/20], Step [75/105], Loss: 0.4149, Accuracy: 92.58%\n",
            "Epoch [15/20], Step [90/105], Loss: 0.3209, Accuracy: 93.36%\n",
            "Epoch [15/20], Step [105/105], Loss: 0.2850, Accuracy: 100.00%\n",
            "Epoch [16/20], Step [15/105], Loss: 0.3838, Accuracy: 92.58%\n",
            "Epoch [16/20], Step [30/105], Loss: 0.3242, Accuracy: 93.36%\n",
            "Epoch [16/20], Step [45/105], Loss: 0.3591, Accuracy: 92.97%\n",
            "Epoch [16/20], Step [60/105], Loss: 0.3369, Accuracy: 92.97%\n",
            "Epoch [16/20], Step [75/105], Loss: 0.3306, Accuracy: 92.58%\n",
            "Epoch [16/20], Step [90/105], Loss: 0.4126, Accuracy: 89.45%\n",
            "Epoch [16/20], Step [105/105], Loss: 0.2936, Accuracy: 87.50%\n",
            "Epoch [17/20], Step [15/105], Loss: 0.3293, Accuracy: 92.58%\n",
            "Epoch [17/20], Step [30/105], Loss: 0.3277, Accuracy: 91.41%\n",
            "Epoch [17/20], Step [45/105], Loss: 0.3124, Accuracy: 94.14%\n",
            "Epoch [17/20], Step [60/105], Loss: 0.3434, Accuracy: 91.80%\n",
            "Epoch [17/20], Step [75/105], Loss: 0.3525, Accuracy: 91.80%\n",
            "Epoch [17/20], Step [90/105], Loss: 0.3545, Accuracy: 91.80%\n",
            "Epoch [17/20], Step [105/105], Loss: 0.1718, Accuracy: 100.00%\n",
            "Epoch [18/20], Step [15/105], Loss: 0.3001, Accuracy: 93.36%\n",
            "Epoch [18/20], Step [30/105], Loss: 0.2741, Accuracy: 94.53%\n",
            "Epoch [18/20], Step [45/105], Loss: 0.2657, Accuracy: 94.14%\n",
            "Epoch [18/20], Step [60/105], Loss: 0.2865, Accuracy: 94.92%\n",
            "Epoch [18/20], Step [75/105], Loss: 0.2500, Accuracy: 95.31%\n",
            "Epoch [18/20], Step [90/105], Loss: 0.2670, Accuracy: 94.14%\n",
            "Epoch [18/20], Step [105/105], Loss: 0.8628, Accuracy: 81.25%\n",
            "Epoch [19/20], Step [15/105], Loss: 0.3816, Accuracy: 90.62%\n",
            "Epoch [19/20], Step [30/105], Loss: 0.2870, Accuracy: 92.97%\n",
            "Epoch [19/20], Step [45/105], Loss: 0.2512, Accuracy: 95.31%\n",
            "Epoch [19/20], Step [60/105], Loss: 0.2645, Accuracy: 93.75%\n",
            "Epoch [19/20], Step [75/105], Loss: 0.2315, Accuracy: 94.53%\n",
            "Epoch [19/20], Step [90/105], Loss: 0.3207, Accuracy: 92.97%\n",
            "Epoch [19/20], Step [105/105], Loss: 0.2170, Accuracy: 93.75%\n",
            "Epoch [20/20], Step [15/105], Loss: 0.2224, Accuracy: 94.14%\n",
            "Epoch [20/20], Step [30/105], Loss: 0.2681, Accuracy: 94.53%\n",
            "Epoch [20/20], Step [45/105], Loss: 0.3167, Accuracy: 91.80%\n",
            "Epoch [20/20], Step [60/105], Loss: 0.2455, Accuracy: 93.75%\n",
            "Epoch [20/20], Step [75/105], Loss: 0.1950, Accuracy: 96.88%\n",
            "Epoch [20/20], Step [90/105], Loss: 0.2365, Accuracy: 96.48%\n",
            "Epoch [20/20], Step [105/105], Loss: 0.2558, Accuracy: 93.75%\n",
            "######## Training Finished in 223.49655294418335 seconds ###########\n",
            "Accuracy List:  [5.859375, 7.421875, 13.671875, 6.640625, 7.03125, 12.5, 37.5, 18.359375, 34.765625, 32.421875, 39.0625, 35.546875, 33.203125, 43.75, 44.140625, 43.359375, 44.53125, 43.75, 43.359375, 48.046875, 43.75, 52.34375, 54.296875, 53.90625, 50.78125, 50.390625, 55.078125, 75.0, 54.6875, 58.984375, 62.5, 67.96875, 63.671875, 67.96875, 56.25, 68.359375, 68.75, 74.21875, 64.0625, 69.53125, 70.703125, 62.5, 72.265625, 74.21875, 73.046875, 71.875, 73.828125, 75.78125, 81.25, 78.125, 81.25, 77.34375, 82.03125, 79.6875, 80.078125, 62.5, 82.8125, 79.6875, 83.59375, 85.546875, 83.59375, 81.640625, 81.25, 85.546875, 83.59375, 85.546875, 85.9375, 84.375, 86.328125, 81.25, 89.453125, 89.84375, 88.671875, 87.890625, 85.15625, 89.0625, 68.75, 88.28125, 91.015625, 88.28125, 90.234375, 88.671875, 85.9375, 81.25, 88.671875, 89.0625, 90.234375, 90.234375, 87.5, 90.234375, 93.75, 90.625, 89.84375, 90.625, 93.75, 93.75, 91.796875, 100.0, 96.484375, 91.40625, 92.96875, 92.578125, 92.578125, 93.359375, 100.0, 92.578125, 93.359375, 92.96875, 92.96875, 92.578125, 89.453125, 87.5, 92.578125, 91.40625, 94.140625, 91.796875, 91.796875, 91.796875, 100.0, 93.359375, 94.53125, 94.140625, 94.921875, 95.3125, 94.140625, 81.25, 90.625, 92.96875, 95.3125, 93.75, 94.53125, 92.96875, 93.75, 94.140625, 94.53125, 91.796875, 93.75, 96.875, 96.484375, 93.75] Steps List:  [15, 30, 45, 60, 75, 90, 105, 15, 30, 45, 60, 75, 90, 105, 15, 30, 45, 60, 75, 90, 105, 15, 30, 45, 60, 75, 90, 105, 15, 30, 45, 60, 75, 90, 105, 15, 30, 45, 60, 75, 90, 105, 15, 30, 45, 60, 75, 90, 105, 15, 30, 45, 60, 75, 90, 105, 15, 30, 45, 60, 75, 90, 105, 15, 30, 45, 60, 75, 90, 105, 15, 30, 45, 60, 75, 90, 105, 15, 30, 45, 60, 75, 90, 105, 15, 30, 45, 60, 75, 90, 105, 15, 30, 45, 60, 75, 90, 105, 15, 30, 45, 60, 75, 90, 105, 15, 30, 45, 60, 75, 90, 105, 15, 30, 45, 60, 75, 90, 105, 15, 30, 45, 60, 75, 90, 105, 15, 30, 45, 60, 75, 90, 105, 15, 30, 45, 60, 75, 90, 105]\n"
          ]
        }
      ],
      "source": [
        "############ Define the training loop here ###########\n",
        "device = torch.device(\"cuda:0\" if torch.cuda.is_available() else \"gpu\")\n",
        "print(\"Device: {}\".format(device))\n",
        "model.to(device)\n",
        "steps_count = len(train_loader)\n",
        "time_start = time.time()\n",
        "lst_accuracy = []\n",
        "lst_steps = []\n",
        "\n",
        "for ep in range(num_epochs):\n",
        "    for i, data in enumerate(train_loader):\n",
        "        images, labels = data[0].to(device), data[1].to(device)\n",
        "\n",
        "        # Forward Pass\n",
        "        outputs = model(images)\n",
        "        loss = cost(outputs, labels)\n",
        "\n",
        "        # Backpropogation and Optimize\n",
        "        optimizer.zero_grad()\n",
        "        loss.backward()\n",
        "        optimizer.step()\n",
        "\n",
        "        # Train Accuracy\n",
        "        total = labels.size(0)\n",
        "        _, predicted = torch.max(outputs.data, 1)\n",
        "        correct = (predicted == labels).sum().item()\n",
        "        steps = i + 1\n",
        "\n",
        "        if (i + 1) % 15 == 0:\n",
        "            accuracy = (correct / total) * 100\n",
        "            lst_accuracy.append(accuracy)\n",
        "            lst_steps.append(steps)\n",
        "            print(\n",
        "                \"Epoch [{}/{}], Step [{}/{}], Loss: {:.4f}, Accuracy: {:.2f}%\".format(\n",
        "                    ep + 1, num_epochs, steps, steps_count, loss.item(), accuracy\n",
        "                )\n",
        "            )\n",
        "\n",
        "print(\n",
        "    \"######## Training Finished in {} seconds ###########\".format(\n",
        "        time.time() - time_start\n",
        "    )\n",
        ")\n",
        "print(\"Accuracy List: \", lst_accuracy, \"Steps List: \", lst_steps)\n"
      ]
    },
    {
      "cell_type": "code",
      "execution_count": 110,
      "metadata": {
        "id": "2Q52003PBRMK",
        "colab": {
          "base_uri": "https://localhost:8080/"
        },
        "outputId": "d137c620-df43-434a-eecf-17d81f2a39d5"
      },
      "outputs": [
        {
          "output_type": "stream",
          "name": "stdout",
          "text": [
            "Accuracy of the network on the 12609 test images: 85.07521773555028 %\n"
          ]
        }
      ],
      "source": [
        "# Test the model\n",
        "# In test phase, we don't need to compute gradients (for memory efficiency)\n",
        "model.eval()\n",
        "with torch.no_grad():\n",
        "    correct = 0\n",
        "    total = 0\n",
        "    for images, labels in test_loader:\n",
        "        images = images.to(device)\n",
        "        labels = labels.to(device)\n",
        "        outputs = model(images)\n",
        "        _, predicted = torch.max(outputs.data, 1)\n",
        "        total += labels.size(0)\n",
        "        correct += (predicted == labels).sum().item()\n",
        "\n",
        "    print('Accuracy of the network on the 12609 test images: {} %'.format(100 * correct / total))\n",
        "\t "
      ]
    },
    {
      "cell_type": "code",
      "source": [
        "import matplotlib.pyplot as pyplot\n",
        "import numpy as np\n",
        "\n",
        "x = np.array(lst_steps)\n",
        "y = np.array(lst_accuracy)\n",
        "\n",
        "pyplot.title(\"LeNet5 accuracy at each Epoch\")\n",
        "pyplot.xlabel(\"Steps\")\n",
        "pyplot.ylabel(\"Accuracies (%)\")\n",
        "pyplot.plot(x, y)\n",
        "\n",
        "pyplot.show()"
      ],
      "metadata": {
        "id": "0tqG7jz_S14b",
        "colab": {
          "base_uri": "https://localhost:8080/",
          "height": 295
        },
        "outputId": "0219703f-ba57-4cdb-b814-6a7deeae1556"
      },
      "execution_count": 111,
      "outputs": [
        {
          "output_type": "display_data",
          "data": {
            "text/plain": [
              "<Figure size 432x288 with 1 Axes>"
            ],
            "image/png": "[encoded data removed]"
          },
          "metadata": {
            "needs_background": "light"
          }
        }
      ]
    },
    {
      "cell_type": "code",
      "source": [
        "# Specify a path\n",
        "PATH = \"lenet5_GTSRB.pt\"\n",
        "\n",
        "# Save\n",
        "torch.save(model, PATH)"
      ],
      "metadata": {
        "id": "Q9wQno2Lc-Go"
      },
      "execution_count": 113,
      "outputs": []
    }
  ],
  "metadata": {
    "accelerator": "GPU",
    "colab": {
      "collapsed_sections": [],
      "provenance": []
    },
    "gpuClass": "standard",
    "kernelspec": {
      "display_name": "Python 3",
      "name": "python3"
    },
    "language_info": {
      "name": "python"
    }
  },
  "nbformat": 4,
  "nbformat_minor": 0
}