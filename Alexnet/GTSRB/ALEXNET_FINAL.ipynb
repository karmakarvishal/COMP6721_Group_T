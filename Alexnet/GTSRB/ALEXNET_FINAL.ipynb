{
  "nbformat": 4,
  "nbformat_minor": 0,
  "metadata": {
    "colab": {
      "provenance": [],
      "collapsed_sections": []
    },
    "kernelspec": {
      "name": "python3",
      "display_name": "Python 3"
    },
    "language_info": {
      "name": "python"
    },
    "accelerator": "GPU",
    "gpuClass": "standard"
  },
  "cells": [
    {
      "cell_type": "code",
      "execution_count": null,
      "metadata": {
        "id": "5gHS95v29uNw"
      },
      "outputs": [],
      "source": [
        "import numpy as np\n",
        "import torch\n",
        "import torch.nn as nn\n",
        "from torchvision import datasets\n",
        "from torchvision import transforms\n",
        "from torch.utils.data.sampler import SubsetRandomSampler\n",
        "\n",
        "\n",
        "# Device configuration\n",
        "device = torch.device('cuda' if torch.cuda.is_available() else 'cpu')\n",
        "batch_size = 64"
      ]
    },
    {
      "cell_type": "code",
      "source": [
        "def get_train_valid_loader(data_dir,\n",
        "                           batch_size,\n",
        "                           augment,\n",
        "                           random_seed,\n",
        "                           valid_size=0.1,\n",
        "                           shuffle=True):\n",
        "    normalize = transforms.Normalize(\n",
        "        mean=[0.4914, 0.4822, 0.4465],\n",
        "        std=[0.2023, 0.1994, 0.2010],\n",
        "    )\n",
        "\n",
        "    # define transforms\n",
        "    valid_transform = transforms.Compose([\n",
        "            transforms.Resize((227,227)),\n",
        "            transforms.ToTensor(),\n",
        "            normalize,\n",
        "    ])\n",
        "    if augment:\n",
        "        train_transform = transforms.Compose([\n",
        "            transforms.RandomCrop(32, padding=4),\n",
        "            transforms.RandomHorizontalFlip(),\n",
        "            transforms.ToTensor(),\n",
        "            normalize,\n",
        "        ])\n",
        "    else:\n",
        "        train_transform = transforms.Compose([\n",
        "            transforms.Resize((227,227)),\n",
        "            transforms.ToTensor(),\n",
        "            normalize,\n",
        "        ])\n",
        "\n",
        "    # load the dataset\n",
        "    train_dataset = datasets.GTSRB(\n",
        "        root=data_dir, split='train',\n",
        "        download=True, transform=train_transform,\n",
        "    )\n",
        "\n",
        "    valid_dataset = datasets.GTSRB(\n",
        "        root=data_dir, split='train',\n",
        "        download=True, transform=valid_transform,\n",
        "    )\n",
        "\n",
        "    num_train = len(train_dataset)\n",
        "    indices = list(range(num_train))\n",
        "    split = int(np.floor(valid_size * num_train))\n",
        "\n",
        "    if shuffle:\n",
        "        np.random.seed(random_seed)\n",
        "        np.random.shuffle(indices)\n",
        "\n",
        "    train_idx, valid_idx = indices[split:], indices[:split]\n",
        "    train_sampler = SubsetRandomSampler(train_idx)\n",
        "    valid_sampler = SubsetRandomSampler(valid_idx)\n",
        "\n",
        "    train_loader = torch.utils.data.DataLoader(\n",
        "        train_dataset, batch_size=batch_size, sampler=train_sampler)\n",
        " \n",
        "    valid_loader = torch.utils.data.DataLoader(\n",
        "        valid_dataset, batch_size=batch_size, sampler=valid_sampler)\n",
        "\n",
        "    return (train_loader, valid_loader)\n",
        "\n",
        "\n",
        "def get_test_loader(data_dir,\n",
        "                    batch_size,\n",
        "                    shuffle=True):\n",
        "    normalize = transforms.Normalize(\n",
        "        mean=[0.485, 0.456, 0.406],\n",
        "        std=[0.229, 0.224, 0.225],\n",
        "    )\n",
        "\n",
        "    # define transform\n",
        "    transform = transforms.Compose([\n",
        "        transforms.Resize((227,227)),\n",
        "        transforms.ToTensor(),\n",
        "        normalize,\n",
        "    ])\n",
        "\n",
        "    dataset = datasets.GTSRB(\n",
        "        root=data_dir, split='test',\n",
        "        download=True, transform=transform,\n",
        "    )\n",
        "\n",
        "    data_loader = torch.utils.data.DataLoader(\n",
        "        dataset, batch_size=batch_size, shuffle=shuffle\n",
        "    )\n",
        "\n",
        "    return data_loader\n",
        "\n",
        "\n",
        "# CIFAR10 dataset \n",
        "train_loader, valid_loader = get_train_valid_loader(data_dir = './data',                                      batch_size = 64,\n",
        "                       augment = False,                             \t\t     random_seed = 1)\n",
        "\n",
        "test_loader = get_test_loader(data_dir = './data',\n",
        "                              batch_size = 64)"
      ],
      "metadata": {
        "id": "dJpx9r1P_R3H"
      },
      "execution_count": null,
      "outputs": []
    },
    {
      "cell_type": "code",
      "source": [
        "\n",
        "class AlexNet(nn.Module):\n",
        "    def __init__(self, num_classes=43):\n",
        "        super(AlexNet, self).__init__()\n",
        "        self.layer1 = nn.Sequential(\n",
        "            nn.Conv2d(3, 96, kernel_size=11, stride=4, padding=0),\n",
        "            nn.BatchNorm2d(96),\n",
        "            nn.ReLU(),\n",
        "            nn.MaxPool2d(kernel_size = 3, stride = 2))\n",
        "        self.layer2 = nn.Sequential(\n",
        "            nn.Conv2d(96, 256, kernel_size=5, stride=1, padding=2),\n",
        "            nn.BatchNorm2d(256),\n",
        "            nn.ReLU(),\n",
        "            nn.MaxPool2d(kernel_size = 3, stride = 2))\n",
        "        self.layer3 = nn.Sequential(\n",
        "            nn.Conv2d(256, 384, kernel_size=3, stride=1, padding=1),\n",
        "            nn.BatchNorm2d(384),\n",
        "            nn.ReLU())\n",
        "        self.layer4 = nn.Sequential(\n",
        "            nn.Conv2d(384, 384, kernel_size=3, stride=1, padding=1),\n",
        "            nn.BatchNorm2d(384),\n",
        "            nn.ReLU())\n",
        "        self.layer5 = nn.Sequential(\n",
        "            nn.Conv2d(384, 256, kernel_size=3, stride=1, padding=1),\n",
        "            nn.BatchNorm2d(256),\n",
        "            nn.ReLU(),\n",
        "            nn.MaxPool2d(kernel_size = 3, stride = 2))\n",
        "        self.fc = nn.Sequential(\n",
        "            nn.Dropout(0.5),\n",
        "            nn.Linear(9216, 4096),\n",
        "            nn.ReLU())\n",
        "        self.fc1 = nn.Sequential(\n",
        "            nn.Dropout(0.5),\n",
        "            nn.Linear(4096, 4096),\n",
        "            nn.ReLU())\n",
        "        self.fc2= nn.Sequential(\n",
        "            nn.Linear(4096, num_classes))\n",
        "        \n",
        "    def forward(self, x):\n",
        "        out = self.layer1(x)\n",
        "        out = self.layer2(out)\n",
        "        out = self.layer3(out)\n",
        "        out = self.layer4(out)\n",
        "        out = self.layer5(out)\n",
        "        out = out.reshape(out.size(0), -1)\n",
        "        out = self.fc(out)\n",
        "        out = self.fc1(out)\n",
        "        out = self.fc2(out)\n",
        "        return out"
      ],
      "metadata": {
        "id": "6lGW-i39Aeuy"
      },
      "execution_count": null,
      "outputs": []
    },
    {
      "cell_type": "code",
      "source": [
        "num_classes = 43\n",
        "num_epochs = 10\n",
        "batch_size = 64\n",
        "learning_rate = 0.0001\n",
        "\n",
        "model = AlexNet(num_classes).to(device)\n",
        "\n",
        "\n",
        "# Loss and optimizer\n",
        "criterion = nn.CrossEntropyLoss()\n",
        "optimizer = torch.optim.SGD(model.parameters(), lr=learning_rate, weight_decay = 0.005, momentum = 0.9)  \n",
        "\n",
        "\n",
        "# Train the model\n",
        "total_step = len(train_loader)\n",
        "print(device)\n",
        "\n"
      ],
      "metadata": {
        "colab": {
          "base_uri": "https://localhost:8080/"
        },
        "id": "yg-plE-eAhSg",
        "outputId": "287f43ff-f5dd-4e0d-820d-c2397ac998b1"
      },
      "execution_count": null,
      "outputs": [
        {
          "output_type": "stream",
          "name": "stdout",
          "text": [
            "cuda\n"
          ]
        }
      ]
    },
    {
      "cell_type": "code",
      "source": [
        "import time\n",
        "start_time = time.time()\n",
        "total_step = len(train_loader)\n",
        "accuracy_list = []\n",
        "\n",
        "steps_list = []\n",
        "\n",
        "for epoch in range(num_epochs):\n",
        "  for i, data in enumerate(train_loader):\n",
        "    images, labels = data[0].to(device), data[1].to(device)\n",
        "\n",
        "    #Forward Pass\n",
        "    outputs = model(images)\n",
        "    loss = criterion(outputs, labels)\n",
        "\n",
        "    #Backpropogation and Optimize\n",
        "    optimizer.zero_grad()\n",
        "    loss.backward()\n",
        "    optimizer.step()\n",
        "\n",
        "    #Train Accuracy\n",
        "    total = labels.size(0)\n",
        "    _, predicted = torch.max(outputs.data,1)\n",
        "\n",
        "    correct = (predicted == labels).sum().item()\n",
        "    \n",
        "    steps = i + 1\n",
        "    \n",
        "    if(i + 1) % 100 == 0:\n",
        "\n",
        "      accuracy = (correct / total) * 100\n",
        "      accuracy_list.append(accuracy)\n",
        "      steps_list.append(steps)\n",
        "      print('Epoch [{}/{}], Step [{}/{}], Loss: {:.4f}, Accuracy: {:.2f}%'\n",
        "              .format(epoch + 1, num_epochs, steps, total_step, loss.item(),\n",
        "                    accuracy))\n",
        "\n",
        "print(\"######## Training Finished in {} seconds ###########\".format(time.time()-start_time))\n",
        "print(\"Accuracy List: \",accuracy_list, \"Steps List: \",steps_list)"
      ],
      "metadata": {
        "id": "ytTO50Kef0ap",
        "colab": {
          "base_uri": "https://localhost:8080/"
        },
        "outputId": "2c330623-4707-444f-ed8c-960cbb975132"
      },
      "execution_count": null,
      "outputs": [
        {
          "output_type": "stream",
          "name": "stdout",
          "text": [
            "Epoch [1/10], Step [100/375], Loss: 3.4629, Accuracy: 10.94%\n",
            "Epoch [1/10], Step [200/375], Loss: 3.2177, Accuracy: 15.62%\n",
            "Epoch [1/10], Step [300/375], Loss: 3.2938, Accuracy: 17.19%\n",
            "Epoch [2/10], Step [100/375], Loss: 2.9201, Accuracy: 20.31%\n",
            "Epoch [2/10], Step [200/375], Loss: 2.7296, Accuracy: 40.62%\n",
            "Epoch [2/10], Step [300/375], Loss: 2.7530, Accuracy: 29.69%\n",
            "Epoch [3/10], Step [100/375], Loss: 2.3416, Accuracy: 37.50%\n",
            "Epoch [3/10], Step [200/375], Loss: 2.1778, Accuracy: 42.19%\n",
            "Epoch [3/10], Step [300/375], Loss: 2.0282, Accuracy: 45.31%\n",
            "Epoch [4/10], Step [100/375], Loss: 1.8396, Accuracy: 51.56%\n",
            "Epoch [4/10], Step [200/375], Loss: 1.8082, Accuracy: 43.75%\n",
            "Epoch [4/10], Step [300/375], Loss: 1.4771, Accuracy: 62.50%\n",
            "Epoch [5/10], Step [100/375], Loss: 1.4402, Accuracy: 54.69%\n",
            "Epoch [5/10], Step [200/375], Loss: 1.5498, Accuracy: 56.25%\n",
            "Epoch [5/10], Step [300/375], Loss: 1.1633, Accuracy: 65.62%\n",
            "Epoch [6/10], Step [100/375], Loss: 1.0999, Accuracy: 67.19%\n",
            "Epoch [6/10], Step [200/375], Loss: 0.9587, Accuracy: 78.12%\n",
            "Epoch [6/10], Step [300/375], Loss: 0.9309, Accuracy: 78.12%\n",
            "Epoch [7/10], Step [100/375], Loss: 1.0459, Accuracy: 65.62%\n",
            "Epoch [7/10], Step [200/375], Loss: 0.8235, Accuracy: 79.69%\n",
            "Epoch [7/10], Step [300/375], Loss: 0.7824, Accuracy: 79.69%\n",
            "Epoch [8/10], Step [100/375], Loss: 0.7383, Accuracy: 81.25%\n",
            "Epoch [8/10], Step [200/375], Loss: 0.6693, Accuracy: 82.81%\n",
            "Epoch [8/10], Step [300/375], Loss: 0.8435, Accuracy: 75.00%\n",
            "Epoch [9/10], Step [100/375], Loss: 0.5159, Accuracy: 85.94%\n",
            "Epoch [9/10], Step [200/375], Loss: 0.5621, Accuracy: 89.06%\n",
            "Epoch [9/10], Step [300/375], Loss: 0.5498, Accuracy: 84.38%\n",
            "Epoch [10/10], Step [100/375], Loss: 0.6133, Accuracy: 79.69%\n",
            "Epoch [10/10], Step [200/375], Loss: 0.4681, Accuracy: 89.06%\n",
            "Epoch [10/10], Step [300/375], Loss: 0.4720, Accuracy: 85.94%\n",
            "######## Training Finished in 701.1627700328827 seconds ###########\n",
            "Accuracy List:  [10.9375, 15.625, 17.1875, 20.3125, 40.625, 29.6875, 37.5, 42.1875, 45.3125, 51.5625, 43.75, 62.5, 54.6875, 56.25, 65.625, 67.1875, 78.125, 78.125, 65.625, 79.6875, 79.6875, 81.25, 82.8125, 75.0, 85.9375, 89.0625, 84.375, 79.6875, 89.0625, 85.9375] Steps List:  [100, 200, 300, 100, 200, 300, 100, 200, 300, 100, 200, 300, 100, 200, 300, 100, 200, 300, 100, 200, 300, 100, 200, 300, 100, 200, 300, 100, 200, 300]\n"
          ]
        }
      ]
    },
    {
      "cell_type": "code",
      "source": [
        "\n",
        "print(\"Accuracy List: \",accuracy_list, \"Steps List: \",steps_list)\n",
        "with torch.no_grad():\n",
        "    correct = 0\n",
        "    total = 0\n",
        "    for images, labels in test_loader:\n",
        "        images = images.to(device)\n",
        "        labels = labels.to(device)\n",
        "        outputs = model(images)\n",
        "        _, predicted = torch.max(outputs.data, 1)\n",
        "        total += labels.size(0)\n",
        "        correct += (predicted == labels).sum().item()\n",
        "        del images, labels, outputs\n",
        "\n",
        "    print('Accuracy of the network on the {} test images: {} %'.format(10000, 100 * correct / total)) "
      ],
      "metadata": {
        "colab": {
          "base_uri": "https://localhost:8080/"
        },
        "id": "MoJ7yuAZEuCM",
        "outputId": "6af15b74-6cc2-4c8d-917a-ff4ef8879555"
      },
      "execution_count": null,
      "outputs": [
        {
          "output_type": "stream",
          "name": "stdout",
          "text": [
            "Accuracy List:  [10.9375, 15.625, 17.1875, 20.3125, 40.625, 29.6875, 37.5, 42.1875, 45.3125, 51.5625, 43.75, 62.5, 54.6875, 56.25, 65.625, 67.1875, 78.125, 78.125, 65.625, 79.6875, 79.6875, 81.25, 82.8125, 75.0, 85.9375, 89.0625, 84.375, 79.6875, 89.0625, 85.9375] Steps List:  [100, 200, 300, 100, 200, 300, 100, 200, 300, 100, 200, 300, 100, 200, 300, 100, 200, 300, 100, 200, 300, 100, 200, 300, 100, 200, 300, 100, 200, 300]\n",
            "Accuracy of the network on the 10000 test images: 82.14568487727632 %\n"
          ]
        }
      ]
    },
    {
      "cell_type": "code",
      "source": [
        "import matplotlib.pyplot as pyplot\n",
        "import numpy as np\n",
        "\n",
        "x_axis = np.array(steps_list)\n",
        "y_axis = np.array(accuracy_list)\n",
        "\n",
        "pyplot.title(\"Accuracy at each Epoch for CNN1\")\n",
        "pyplot.xlabel(\"Steps\")\n",
        "pyplot.ylabel(\"Accuracies (%)\")\n",
        "pyplot.plot(x_axis, y_axis)\n",
        "\n",
        "pyplot.show()"
      ],
      "metadata": {
        "colab": {
          "base_uri": "https://localhost:8080/",
          "height": 295
        },
        "id": "MoiEOzPYM6Pw",
        "outputId": "3d51f8f8-1001-44db-e4b1-b4c9e4fec65b"
      },
      "execution_count": null,
      "outputs": [
        {
          "output_type": "display_data",
          "data": {
            "text/plain": [
              "<Figure size 432x288 with 1 Axes>"
            ],
            "image/png": "[encoded data removed]"
          },
          "metadata": {
            "needs_background": "light"
          }
        }
      ]
    },
    {
      "cell_type": "code",
      "source": [
        "# Specify a path\n",
        "PATH = \"/content/AlexnetAll\"\n",
        "\n",
        "# Save\n",
        "torch.save(model, PATH)"
      ],
      "metadata": {
        "id": "TezE8VTanLMg"
      },
      "execution_count": 25,
      "outputs": []
    },
    {
      "cell_type": "code",
      "source": [
        "torch.save({\n",
        "            'epoch': epoch,\n",
        "            'model_state_dict': model.state_dict(),\n",
        "            'optimizer_state_dict': optimizer.state_dict(),\n",
        "            'loss': loss,\n",
        "            'accuracy_list':accuracy_list,\n",
        "            'step_list':steps_list\n",
        "            }, PATH)"
      ],
      "metadata": {
        "id": "1yq6MbNmqh0K"
      },
      "execution_count": 26,
      "outputs": []
    },
    {
      "cell_type": "code",
      "source": [
        "!zip '/content/Alexnet.pt'"
      ],
      "metadata": {
        "colab": {
          "base_uri": "https://localhost:8080/"
        },
        "id": "nmwWHnXkrUim",
        "outputId": "7aa95125-63dd-4e3b-ac5e-a431fb451368"
      },
      "execution_count": 17,
      "outputs": [
        {
          "output_type": "stream",
          "name": "stdout",
          "text": [
            "  adding: content/Alexnet.pt (deflated 8%)\n"
          ]
        }
      ]
    }
  ]
}