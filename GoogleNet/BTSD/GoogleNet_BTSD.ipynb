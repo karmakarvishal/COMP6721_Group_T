{
  "cells": [
    {
      "cell_type": "code",
      "execution_count": 1,
      "metadata": {
        "id": "1VmoI3rRonNA"
      },
      "outputs": [],
      "source": [
        "import numpy as np\n",
        "import torch\n",
        "import torch.nn as nn\n",
        "from torchvision import datasets\n",
        "from torchvision import transforms\n",
        "from torch.utils.data.sampler import SubsetRandomSampler\n"
      ]
    },
    {
      "cell_type": "markdown",
      "metadata": {
        "id": "mzB42Mcgpp1l"
      },
      "source": [
        "Training Dataset: https://btsd.ethz.ch/shareddata/BelgiumTSC/BelgiumTSC_Training.zip"
      ]
    },
    {
      "cell_type": "code",
      "execution_count": 2,
      "metadata": {
        "colab": {
          "base_uri": "https://localhost:8080/"
        },
        "id": "qEbNDeWnppfS",
        "outputId": "085175f1-2c1a-473c-e385-bd9953a09ff7"
      },
      "outputs": [
        {
          "output_type": "stream",
          "name": "stdout",
          "text": [
            "--2022-11-30 06:32:24--  https://btsd.ethz.ch/shareddata/BelgiumTSC/BelgiumTSC_Training.zip\n",
            "Resolving btsd.ethz.ch (btsd.ethz.ch)... 129.132.52.168, 2001:67c:10ec:36c2::168\n",
            "Connecting to btsd.ethz.ch (btsd.ethz.ch)|129.132.52.168|:443... connected.\n",
            "HTTP request sent, awaiting response... 200 OK\n",
            "Length: 174298785 (166M) [application/zip]\n",
            "Saving to: ‘BelgiumTSC_Training.zip’\n",
            "\n",
            "BelgiumTSC_Training 100%[===================>] 166.22M  8.68MB/s    in 20s     \n",
            "\n",
            "2022-11-30 06:32:45 (8.38 MB/s) - ‘BelgiumTSC_Training.zip’ saved [174298785/174298785]\n",
            "\n"
          ]
        }
      ],
      "source": [
        "!wget https://btsd.ethz.ch/shareddata/BelgiumTSC/BelgiumTSC_Training.zip\n",
        "# !wget https://btsd.ethz.ch/shareddata/BelgiumTSC/BelgiumTSC_Testing.zip"
      ]
    },
    {
      "cell_type": "markdown",
      "metadata": {
        "id": "Oqu6-ZPSp6Lb"
      },
      "source": [
        "Test Dataset: https://btsd.ethz.ch/shareddata/BelgiumTSC/BelgiumTSC_Testing.zip"
      ]
    },
    {
      "cell_type": "markdown",
      "metadata": {
        "id": "SfeCTjfCrL7d"
      },
      "source": [
        "Traindata & TestData Variables"
      ]
    },
    {
      "cell_type": "code",
      "execution_count": 3,
      "metadata": {
        "id": "1sBapkn89hLI"
      },
      "outputs": [],
      "source": [
        "import zipfile\n",
        "with zipfile.ZipFile('/content/BelgiumTSC_Training.zip', 'r') as zip_ref:\n",
        "    zip_ref.extractall('/content/')"
      ]
    },
    {
      "cell_type": "code",
      "execution_count": 4,
      "metadata": {
        "colab": {
          "base_uri": "https://localhost:8080/"
        },
        "id": "AFU-kSejq_ZN",
        "outputId": "6c4e5d5a-cd6c-4856-f695-14b10eea073e"
      },
      "outputs": [
        {
          "output_type": "stream",
          "name": "stdout",
          "text": [
            "Train 3660\n",
            "TEST 915\n"
          ]
        }
      ],
      "source": [
        "import torchvision\n",
        "test_path = '/content/Testing'\n",
        "train_path = '/content/Training'\n",
        "\n",
        "preprocess = transforms.Compose([\n",
        "    transforms.Resize(256),\n",
        "    transforms.RandomHorizontalFlip(),\n",
        "    transforms.RandomVerticalFlip(),\n",
        "    transforms.RandomAutocontrast(),\n",
        "    transforms.CenterCrop(224),\n",
        "    transforms.ToTensor(),\n",
        "    transforms.Normalize(mean=[0.485, 0.456, 0.406], std=[0.229, 0.224, 0.225]),\n",
        "])\n",
        "\n",
        "\n",
        "data = torchvision.datasets.ImageFolder(root=train_path, transform=preprocess)\n",
        "\n",
        "#train_data_loader = torch.utils.data.DataLoader(train_data, batch_size=64, shuffle=True,  num_workers=0)\n",
        "\n",
        "train_size = int(0.8 * len(data))\n",
        "test_size = len(data) - train_size\n",
        "train_dataset, test_dataset = torch.utils.data.random_split(data, [train_size, test_size])\n",
        "\n",
        "\n",
        "#train_data = torchvision.datasets.ImageFolder(root=train_path,transform=preprocess)\n",
        "train_dataLoader = torch.utils.data.DataLoader(train_dataset, batch_size=32, shuffle=True,  num_workers=2)\n",
        "print('Train',len(train_dataset))\n",
        "\n",
        "#test_data = torchvision.datasets.ImageFolder(root=train_path,transform=preprocess)\n",
        "print('TEST',len(test_dataset))\n",
        "test_dataLoader = torch.utils.data.DataLoader(test_dataset, batch_size=32, shuffle=True,  num_workers=2)"
      ]
    },
    {
      "cell_type": "markdown",
      "metadata": {
        "id": "C9cP0zeztAm3"
      },
      "source": [
        "Hyper Parameters"
      ]
    },
    {
      "cell_type": "code",
      "execution_count": 5,
      "metadata": {
        "id": "7-NMmnl4bf5l"
      },
      "outputs": [],
      "source": [
        "import torch"
      ]
    },
    {
      "cell_type": "code",
      "execution_count": 6,
      "metadata": {
        "colab": {
          "base_uri": "https://localhost:8080/"
        },
        "id": "VlG_N7uIs1VZ",
        "outputId": "1b7e6771-8126-4cca-e9d4-b9cc3770df3a"
      },
      "outputs": [
        {
          "output_type": "stream",
          "name": "stderr",
          "text": [
            "Downloading: \"https://github.com/pytorch/vision/zipball/v0.10.0\" to /root/.cache/torch/hub/v0.10.0.zip\n",
            "/usr/local/lib/python3.7/dist-packages/torchvision/models/_utils.py:209: UserWarning: The parameter 'pretrained' is deprecated since 0.13 and will be removed in 0.15, please use 'weights' instead.\n",
            "  f\"The parameter '{pretrained_param}' is deprecated since 0.13 and will be removed in 0.15, \"\n",
            "/usr/local/lib/python3.7/dist-packages/torchvision/models/_utils.py:223: UserWarning: Arguments other than a weight enum or `None` for 'weights' are deprecated since 0.13 and will be removed in 0.15. The current behavior is equivalent to passing `weights=None`.\n",
            "  warnings.warn(msg)\n",
            "/usr/local/lib/python3.7/dist-packages/torchvision/models/googlenet.py:51: FutureWarning: The default weight initialization of GoogleNet will be changed in future releases of torchvision. If you wish to keep the old behavior (which leads to long initialization times due to scipy/scipy#11299), please set init_weights=True.\n",
            "  FutureWarning,\n"
          ]
        },
        {
          "output_type": "stream",
          "name": "stdout",
          "text": [
            "cuda\n"
          ]
        }
      ],
      "source": [
        "num_classes = 62\n",
        "num_epochs = 30\n",
        "batch_size=32\n",
        "learning_rate = 0.01\n",
        "\n",
        "\n",
        "model = torch.hub.load('pytorch/vision:v0.10.0', 'googlenet', pretrained=False)\n",
        "model.eval()\n",
        "\n",
        "device = torch.device('cuda' if torch.cuda.is_available() else 'cpu')\n",
        "print(device)\n",
        "if torch.cuda.is_available():\n",
        "    model.cuda()"
      ]
    },
    {
      "cell_type": "code",
      "execution_count": 7,
      "metadata": {
        "id": "0_oNHE7Zs_6s"
      },
      "outputs": [],
      "source": [
        "# Loss and optimizer\n",
        "criterion = nn.CrossEntropyLoss()\n",
        "optimizer = torch.optim.Adam(model.parameters(), lr=learning_rate)  \n",
        "scheduler = torch.optim.lr_scheduler.CosineAnnealingWarmRestarts(optimizer, T_0=5)"
      ]
    },
    {
      "cell_type": "code",
      "execution_count": 8,
      "metadata": {
        "colab": {
          "base_uri": "https://localhost:8080/"
        },
        "id": "evrjmUxFc_il",
        "outputId": "a0408f10-c447-4fcc-f5ac-d80e7b91dfd9"
      },
      "outputs": [
        {
          "output_type": "execute_result",
          "data": {
            "text/plain": [
              "device(type='cuda')"
            ]
          },
          "metadata": {},
          "execution_count": 8
        }
      ],
      "source": [
        "device"
      ]
    },
    {
      "cell_type": "code",
      "execution_count": 9,
      "metadata": {
        "colab": {
          "base_uri": "https://localhost:8080/"
        },
        "id": "683jgtd2tQSH",
        "outputId": "cbf9c06f-8b1f-4039-a568-e9373d04a6c8"
      },
      "outputs": [
        {
          "output_type": "stream",
          "name": "stdout",
          "text": [
            "Epoch [1/30], Step [100/115], Loss: 3.0264, Accuracy: 31.25%\n",
            "Epoch [2/30], Step [100/115], Loss: 2.0158, Accuracy: 40.62%\n",
            "Epoch [3/30], Step [100/115], Loss: 1.8505, Accuracy: 59.38%\n",
            "Epoch [4/30], Step [100/115], Loss: 2.1839, Accuracy: 53.12%\n",
            "Epoch [5/30], Step [100/115], Loss: 1.4087, Accuracy: 53.12%\n",
            "Epoch [6/30], Step [100/115], Loss: 1.0106, Accuracy: 71.88%\n",
            "Epoch [7/30], Step [100/115], Loss: 0.9076, Accuracy: 68.75%\n",
            "Epoch [8/30], Step [100/115], Loss: 0.6217, Accuracy: 81.25%\n",
            "Epoch [9/30], Step [100/115], Loss: 0.7173, Accuracy: 81.25%\n",
            "Epoch [10/30], Step [100/115], Loss: 0.7542, Accuracy: 81.25%\n",
            "Epoch [11/30], Step [100/115], Loss: 0.4577, Accuracy: 84.38%\n",
            "Epoch [12/30], Step [100/115], Loss: 0.4059, Accuracy: 87.50%\n",
            "Epoch [13/30], Step [100/115], Loss: 0.4081, Accuracy: 84.38%\n",
            "Epoch [14/30], Step [100/115], Loss: 0.2513, Accuracy: 87.50%\n",
            "Epoch [15/30], Step [100/115], Loss: 0.2055, Accuracy: 93.75%\n",
            "Epoch [16/30], Step [100/115], Loss: 0.2113, Accuracy: 93.75%\n",
            "Epoch [17/30], Step [100/115], Loss: 0.5786, Accuracy: 78.12%\n",
            "Epoch [18/30], Step [100/115], Loss: 0.3512, Accuracy: 90.62%\n",
            "Epoch [19/30], Step [100/115], Loss: 0.0701, Accuracy: 96.88%\n",
            "Epoch [20/30], Step [100/115], Loss: 0.0901, Accuracy: 96.88%\n",
            "Epoch [21/30], Step [100/115], Loss: 0.1155, Accuracy: 96.88%\n",
            "Epoch [22/30], Step [100/115], Loss: 0.0531, Accuracy: 100.00%\n",
            "Epoch [23/30], Step [100/115], Loss: 0.0820, Accuracy: 96.88%\n",
            "Epoch [24/30], Step [100/115], Loss: 0.0639, Accuracy: 96.88%\n",
            "Epoch [25/30], Step [100/115], Loss: 0.0503, Accuracy: 96.88%\n",
            "Epoch [26/30], Step [100/115], Loss: 0.0228, Accuracy: 100.00%\n",
            "Epoch [27/30], Step [100/115], Loss: 0.0934, Accuracy: 100.00%\n",
            "Epoch [28/30], Step [100/115], Loss: 0.2492, Accuracy: 93.75%\n",
            "Epoch [29/30], Step [100/115], Loss: 0.2040, Accuracy: 96.88%\n",
            "Epoch [30/30], Step [100/115], Loss: 0.3081, Accuracy: 93.75%\n",
            "######## Training Finished in 479.83463168144226 seconds ###########\n",
            "Accuracy List:  [31.25, 40.625, 59.375, 53.125, 53.125, 71.875, 68.75, 81.25, 81.25, 81.25, 84.375, 87.5, 84.375, 87.5, 93.75, 93.75, 78.125, 90.625, 96.875, 96.875, 96.875, 100.0, 96.875, 96.875, 96.875, 100.0, 100.0, 93.75, 96.875, 93.75] Steps List:  [100, 100, 100, 100, 100, 100, 100, 100, 100, 100, 100, 100, 100, 100, 100, 100, 100, 100, 100, 100, 100, 100, 100, 100, 100, 100, 100, 100, 100, 100]\n"
          ]
        }
      ],
      "source": [
        "import time\n",
        "import matplotlib.pyplot as plt\n",
        "import numpy as np\n",
        "\n",
        "start_time = time.time()\n",
        "total_step = len(train_dataLoader)\n",
        "accuracy_list = []\n",
        "loss_list = []\n",
        "steps_list = []\n",
        "model.train()\n",
        "\n",
        "for epoch in range(num_epochs):\n",
        "  for i, data in enumerate(train_dataLoader):\n",
        "    images, labels = data[0].to(device), data[1].to(device)\n",
        "\n",
        "    #Forward Pass\n",
        "    outputs = model(images).logits\n",
        "    loss = criterion(outputs, labels)\n",
        "    #Backpropogation and Optimize\n",
        "    optimizer.zero_grad()\n",
        "    loss.backward()\n",
        "    optimizer.step()\n",
        "    \n",
        "    #Train Accuracy\n",
        "    total = labels.size(0)\n",
        "    _, predicted = torch.max(outputs.data,1)\n",
        "\n",
        "    correct = (predicted == labels).sum().item()\n",
        "    \n",
        "    steps = i + 1\n",
        "    if(steps%100==0):\n",
        "      accuracy = (correct / total) * 100\n",
        "      accuracy_list.append(accuracy)\n",
        "      steps_list.append(steps)\n",
        "      loss_list.append(loss.item())\n",
        "      print('Epoch [{}/{}], Step [{}/{}], Loss: {:.4f}, Accuracy: {:.2f}%'\n",
        "            .format(epoch + 1, num_epochs, steps, total_step, loss.item(),\n",
        "            accuracy))\n",
        "    scheduler.step()\n",
        "    \n",
        "    \n",
        "\n",
        "print(\"######## Training Finished in {} seconds ###########\".format(time.time()-start_time))\n",
        "print(\"Accuracy List: \",accuracy_list, \"Steps List: \",steps_list)"
      ]
    },
    {
      "cell_type": "code",
      "execution_count": 14,
      "metadata": {
        "colab": {
          "base_uri": "https://localhost:8080/",
          "height": 295
        },
        "id": "tWIvkezb1ryG",
        "outputId": "a68d9068-6de1-459f-dba3-7e2191c87134"
      },
      "outputs": [
        {
          "output_type": "display_data",
          "data": {
            "text/plain": [
              "<Figure size 432x288 with 1 Axes>"
            ],
            "image/png": "[encoded data removed]"
          },
          "metadata": {
            "needs_background": "light"
          }
        }
      ],
      "source": [
        "import matplotlib.pyplot as pyplot\n",
        "import numpy as np\n",
        "\n",
        "y_axis = np.array(accuracy_list)\n",
        "\n",
        "pyplot.title(\"Accuracy at each Step for GoogleNet\")\n",
        "pyplot.xlabel(\"Steps\")\n",
        "pyplot.ylabel(\"Accuracies (%)\")\n",
        "pyplot.plot(y_axis)\n",
        "\n",
        "pyplot.show()"
      ]
    },
    {
      "cell_type": "code",
      "source": [
        "y_axis = np.array(loss_list)\n",
        "\n",
        "pyplot.title(\"Loss at each Step for GoogleNet\")\n",
        "pyplot.xlabel(\"Steps\")\n",
        "pyplot.ylabel(\"Loss (%)\")\n",
        "pyplot.plot(y_axis)\n",
        "\n",
        "pyplot.show()"
      ],
      "metadata": {
        "colab": {
          "base_uri": "https://localhost:8080/",
          "height": 295
        },
        "id": "9Wbv60EyQ-FZ",
        "outputId": "68d797fa-91ff-47fc-f885-34e382f87e06"
      },
      "execution_count": 15,
      "outputs": [
        {
          "output_type": "display_data",
          "data": {
            "text/plain": [
              "<Figure size 432x288 with 1 Axes>"
            ],
            "image/png": "[encoded data removed]"
          },
          "metadata": {
            "needs_background": "light"
          }
        }
      ]
    },
    {
      "cell_type": "code",
      "execution_count": 18,
      "metadata": {
        "colab": {
          "base_uri": "https://localhost:8080/"
        },
        "id": "17xuXwM077j_",
        "outputId": "93de5dd1-bdcc-4816-cb67-37f3db2913c1"
      },
      "outputs": [
        {
          "output_type": "stream",
          "name": "stderr",
          "text": [
            "/usr/local/lib/python3.7/dist-packages/ipykernel_launcher.py:15: UserWarning: volatile was removed and now has no effect. Use `with torch.no_grad():` instead.\n",
            "  from ipykernel import kernelapp as app\n"
          ]
        },
        {
          "output_type": "stream",
          "name": "stdout",
          "text": [
            "tensor([50, 44,  7, 61, 19, 20, 29, 19, 61, 38, 38, 32, 24, 57, 22, 34, 45, 61,\n",
            "        22, 31, 47, 17, 32, 39,  7, 47, 61, 53, 32, 61, 19, 38],\n",
            "       device='cuda:0')\n",
            "tensor([39,  1, 40,  5, 38, 57, 37, 47, 13, 41, 39, 15, 38,  2, 41, 44, 20, 31,\n",
            "        54, 40, 14, 16, 35, 47, 18, 32, 39, 59, 37, 48, 35, 13],\n",
            "       device='cuda:0')\n",
            "tensor([61, 14, 40, 61, 38, 32, 38, 32, 34, 61, 39, 44, 19, 45, 53, 38, 32, 14,\n",
            "        22, 57, 61, 39,  3, 42, 54, 47, 40, 38, 40, 19, 32, 53],\n",
            "       device='cuda:0')\n",
            "tensor([ 0, 40, 38, 22, 19, 17, 61, 56, 38, 31, 22, 38, 22, 57,  1, 43, 41,  1,\n",
            "        54, 40, 52, 57,  7, 32, 32, 46, 47, 61, 38, 43, 40, 18],\n",
            "       device='cuda:0')\n",
            "tensor([ 1, 61, 40, 18, 47, 30, 53, 38, 47,  3, 32, 47, 53, 32, 56, 18, 36, 41,\n",
            "        18, 61, 47, 56, 19, 22, 39, 41, 45, 32, 32, 31,  7, 31],\n",
            "       device='cuda:0')\n",
            "tensor([22, 21, 39, 19, 32, 37, 56, 46, 32, 59, 61, 22, 49, 28, 27, 19, 19, 32,\n",
            "        32, 54, 32, 61, 22,  7, 38, 32, 32, 41,  2, 32, 33, 52],\n",
            "       device='cuda:0')\n",
            "tensor([38, 22, 61, 18, 41, 51, 34,  7, 38, 56, 33, 22, 18, 38, 41,  7, 22, 21,\n",
            "        20,  7, 41, 46, 22, 32, 40, 56, 32, 28,  7, 46, 58, 22],\n",
            "       device='cuda:0')\n",
            "tensor([13, 37,  7, 56, 35, 33, 22, 61, 56, 61, 23, 22,  3, 31,  1, 22, 41, 39,\n",
            "        40, 22, 22, 56, 40, 22, 22, 53, 43, 19, 31, 58, 22, 19],\n",
            "       device='cuda:0')\n",
            "tensor([32, 17, 59, 22, 32, 37, 61, 38, 53, 38, 48, 44, 10, 38, 47, 53, 19, 47,\n",
            "        22, 17, 35, 38,  1, 44, 22, 34, 23, 28, 41, 61, 38, 54],\n",
            "       device='cuda:0')\n",
            "tensor([22, 47, 24, 22, 40, 28, 32, 20, 42, 43, 28, 19, 21, 39, 53, 18, 39, 41,\n",
            "        47, 61, 50, 19, 10, 40, 39,  7, 14, 14,  8,  1, 33, 61],\n",
            "       device='cuda:0')\n",
            "tensor([ 9, 22, 56, 21, 24, 19, 22,  7,  7, 57, 32, 13,  1,  8, 38, 32, 22,  7,\n",
            "        37, 47, 18, 19, 41, 28, 59, 57,  1, 41, 60, 19, 47, 38],\n",
            "       device='cuda:0')\n",
            "tensor([19, 22, 22, 54, 31, 40, 19, 44, 53, 22, 46, 34, 19, 53, 13, 46, 22, 17,\n",
            "        28,  1, 39, 35, 40, 22, 29, 39, 61, 54, 40, 34,  1, 54],\n",
            "       device='cuda:0')\n",
            "tensor([38,  0, 25, 32, 58, 21, 30, 20, 51, 61, 13, 30, 53, 32, 24, 41, 32, 53,\n",
            "        14, 22, 46,  7, 38, 38, 41, 38, 47, 36, 32, 53, 38, 52],\n",
            "       device='cuda:0')\n",
            "tensor([61, 25, 54, 37, 38, 22, 32, 39, 19, 18, 38, 38,  8, 17, 38, 19, 17, 32,\n",
            "        19, 57, 38, 38, 19, 57, 55, 25, 32, 19, 53, 54,  9, 17],\n",
            "       device='cuda:0')\n",
            "tensor([ 7, 22, 45, 61, 34, 47, 22, 28, 47, 30, 19, 20, 23, 54, 19, 39, 40, 38,\n",
            "        18, 40, 40, 25,  3, 61, 38, 32, 47, 40, 32, 41, 61, 19],\n",
            "       device='cuda:0')\n",
            "tensor([20, 61, 40,  7, 40, 32, 25, 28, 35, 39, 53, 31, 53, 34,  1, 24, 19, 57,\n",
            "        42,  7, 16,  7, 21, 43, 58, 61, 44, 38, 38, 58, 39, 23],\n",
            "       device='cuda:0')\n",
            "tensor([ 7, 40, 19, 58, 37, 38, 32, 13, 28, 19, 37, 39, 38, 38, 39, 20, 53, 32,\n",
            "        40, 53, 45, 39, 43, 53, 18, 51, 61, 38, 42, 32, 39, 61],\n",
            "       device='cuda:0')\n",
            "tensor([37, 57, 61, 56, 22,  5, 50, 19, 40, 61,  1, 22, 50, 47, 43, 41, 18,  7,\n",
            "         7, 35,  7, 61, 54, 44, 32, 19, 39, 61,  1, 40, 54, 47],\n",
            "       device='cuda:0')\n",
            "tensor([17, 42, 53, 22, 19, 32, 41, 32, 53, 38,  3, 22, 35, 14, 32, 37, 19, 23,\n",
            "        38, 53, 28,  6,  9, 54, 39, 19, 32, 54,  1, 43, 41, 31],\n",
            "       device='cuda:0')\n",
            "tensor([53, 19, 38, 32, 32, 54, 53, 32, 29, 19,  1, 30, 38, 42, 14, 22, 61, 57,\n",
            "        35, 32, 32, 13, 39, 40, 19, 54, 61, 40, 40, 39,  1, 41],\n",
            "       device='cuda:0')\n",
            "tensor([26, 44, 18, 54, 29, 14, 12, 56, 61, 40, 18, 53, 35, 61,  1, 41, 59, 42,\n",
            "         3, 14, 47, 61, 46, 19, 22, 22,  5, 32, 41, 19, 61, 43],\n",
            "       device='cuda:0')\n",
            "tensor([41, 35, 32, 19, 57, 22, 47, 40, 14, 19, 53, 59, 52, 38,  8,  7, 57, 13,\n",
            "        22, 45, 13, 47, 53, 61,  7, 53, 40, 50,  7, 56, 54, 51],\n",
            "       device='cuda:0')\n",
            "tensor([59, 29, 38, 41, 53, 40, 40, 32,  7, 28, 13, 54,  1, 41, 39, 54, 37, 22,\n",
            "        22, 19, 43, 37, 22,  1, 32, 38, 45, 38, 32, 22, 21, 61],\n",
            "       device='cuda:0')\n",
            "tensor([29, 40, 22, 41, 51, 22,  7, 18, 38, 61, 50,  7, 17, 39, 56, 32, 17, 10,\n",
            "        59, 38, 19, 55, 61, 37, 18, 61, 54, 37, 43, 22, 57, 44],\n",
            "       device='cuda:0')\n",
            "tensor([17, 40, 54, 44, 59, 41, 41, 36, 41, 61, 38, 22, 61, 31, 53, 32,  5, 47,\n",
            "        33, 32, 54, 32, 39, 61,  7, 24, 33, 61, 61, 17, 35, 50],\n",
            "       device='cuda:0')\n",
            "tensor([28, 40, 36, 53, 22, 49, 32, 51,  8, 39, 53, 61, 16, 19, 61, 53, 40, 39,\n",
            "        19, 38, 21, 39, 53, 23, 39, 53, 22, 22, 38, 50, 53, 53],\n",
            "       device='cuda:0')\n",
            "tensor([61, 32, 24, 39,  7, 47, 22, 22, 22, 38, 41, 22, 57, 37, 43,  1, 42, 41,\n",
            "        61, 47,  1, 24, 43, 54, 19, 45, 40, 47, 32, 22, 47, 32],\n",
            "       device='cuda:0')\n",
            "tensor([34, 39, 40, 25, 53, 46, 20, 11, 22, 13, 54, 40, 24, 38, 39, 28, 28, 39,\n",
            "        22, 28, 45, 13, 39, 46, 56, 50, 40, 22,  1, 22, 53, 21],\n",
            "       device='cuda:0')\n",
            "tensor([40, 53, 18, 44, 40, 22, 38, 58, 57, 22, 17, 61, 17, 61, 53, 47, 47, 20,\n",
            "        22], device='cuda:0')\n",
            "\n",
            "Average Validation loss: 0.23169\tAccuracy: 94.0983657836914 %\n"
          ]
        }
      ],
      "source": [
        "from torch.autograd import Variable\n",
        "train_loss = []\n",
        "train_accuracy = []\n",
        "valid_loss = []\n",
        "valid_accuracy = []\n",
        "import torch.nn.functional as F\n",
        "\n",
        "def evaluate(data_loader):\n",
        "    model.eval()\n",
        "    loss = 0\n",
        "    correct = 0\n",
        "    total = 0\n",
        "    for data, target in data_loader:\n",
        "       \n",
        "        data, target = Variable(data, volatile=True), Variable(target)\n",
        "        if torch.cuda.is_available():\n",
        "            data = data.cuda()\n",
        "            target = target.cuda()\n",
        "        \n",
        "        output = model(data)\n",
        "\n",
        "        loss += F.cross_entropy(output, target, size_average=False).item()\n",
        "        pred = torch.max(output.data, 1)[1]\n",
        "        print(pred)\n",
        "        total += len(data)\n",
        "        correct += (pred == target).sum()\n",
        "    loss /= len(data_loader.dataset)\n",
        "    valid_loss.append(loss)    \n",
        "    valid_accuracy.append(100 * correct / total)\n",
        "    print('\\nAverage Validation loss: {:.5f}\\tAccuracy: {} %'.format(loss, 100 * correct / total))\n",
        "\n",
        "\n",
        "evaluate(test_dataLoader)"
      ]
    },
    {
      "cell_type": "code",
      "source": [
        "print('Accuracy List :', accuracy_list)\n",
        "print('Loss List :', loss_list)"
      ],
      "metadata": {
        "colab": {
          "base_uri": "https://localhost:8080/"
        },
        "id": "IYhatD6vRkUc",
        "outputId": "431dc9f5-bb6d-4ab4-eb1b-892e445d198d"
      },
      "execution_count": 19,
      "outputs": [
        {
          "output_type": "stream",
          "name": "stdout",
          "text": [
            "Accuracy List : [31.25, 40.625, 59.375, 53.125, 53.125, 71.875, 68.75, 81.25, 81.25, 81.25, 84.375, 87.5, 84.375, 87.5, 93.75, 93.75, 78.125, 90.625, 96.875, 96.875, 96.875, 100.0, 96.875, 96.875, 96.875, 100.0, 100.0, 93.75, 96.875, 93.75]\n",
            "Loss List : [3.026400327682495, 2.0157978534698486, 1.8504573106765747, 2.1838538646698, 1.408703327178955, 1.0106207132339478, 0.9075528979301453, 0.621721088886261, 0.717340350151062, 0.75416100025177, 0.45768246054649353, 0.4058893322944641, 0.4081011414527893, 0.25128108263015747, 0.20551469922065735, 0.21125949919223785, 0.5785788297653198, 0.3512206971645355, 0.0701436698436737, 0.09008356928825378, 0.11552806943655014, 0.053087279200553894, 0.08200915157794952, 0.06392855197191238, 0.05028966814279556, 0.02278079278767109, 0.09344033151865005, 0.2491908222436905, 0.20401811599731445, 0.3081486225128174]\n"
          ]
        }
      ]
    },
    {
      "cell_type": "code",
      "execution_count": 20,
      "metadata": {
        "id": "pkrgVEmnwjzQ"
      },
      "outputs": [],
      "source": [
        "PATH = '/content/BTSD_GoogleNet'\n",
        "torch.save(model.state_dict(), PATH)"
      ]
    }
  ],
  "metadata": {
    "accelerator": "GPU",
    "colab": {
      "provenance": []
    },
    "gpuClass": "standard",
    "kernelspec": {
      "display_name": "Python 3",
      "name": "python3"
    },
    "language_info": {
      "name": "python"
    }
  },
  "nbformat": 4,
  "nbformat_minor": 0
}