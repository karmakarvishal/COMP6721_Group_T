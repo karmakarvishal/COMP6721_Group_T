{
  "cells": [
    {
      "cell_type": "code",
      "execution_count": 1,
      "metadata": {
        "id": "1VmoI3rRonNA"
      },
      "outputs": [],
      "source": [
        "import numpy as np\n",
        "import torch\n",
        "import torch.nn as nn\n",
        "from torchvision import datasets\n",
        "from torchvision import transforms\n",
        "from torch.utils.data.sampler import SubsetRandomSampler\n"
      ]
    },
    {
      "cell_type": "markdown",
      "metadata": {
        "id": "mzB42Mcgpp1l"
      },
      "source": [
        "Training Dataset: https://btsd.ethz.ch/shareddata/BelgiumTSC/BelgiumTSC_Training.zip"
      ]
    },
    {
      "cell_type": "code",
      "execution_count": 2,
      "metadata": {
        "colab": {
          "base_uri": "https://localhost:8080/"
        },
        "id": "qEbNDeWnppfS",
        "outputId": "073a7ce0-34a5-4fff-e734-450ea2f6481f"
      },
      "outputs": [
        {
          "output_type": "stream",
          "name": "stdout",
          "text": [
            "--2022-12-03 20:51:14--  https://btsd.ethz.ch/shareddata/BelgiumTSC/BelgiumTSC_Training.zip\n",
            "Resolving btsd.ethz.ch (btsd.ethz.ch)... 129.132.52.168, 2001:67c:10ec:36c2::168\n",
            "Connecting to btsd.ethz.ch (btsd.ethz.ch)|129.132.52.168|:443... connected.\n",
            "HTTP request sent, awaiting response... 200 OK\n",
            "Length: 174298785 (166M) [application/zip]\n",
            "Saving to: ‘BelgiumTSC_Training.zip’\n",
            "\n",
            "BelgiumTSC_Training 100%[===================>] 166.22M  6.37MB/s    in 21s     \n",
            "\n",
            "2022-12-03 20:51:35 (8.08 MB/s) - ‘BelgiumTSC_Training.zip’ saved [174298785/174298785]\n",
            "\n"
          ]
        }
      ],
      "source": [
        "!wget https://btsd.ethz.ch/shareddata/BelgiumTSC/BelgiumTSC_Training.zip\n",
        "# !wget https://btsd.ethz.ch/shareddata/BelgiumTSC/BelgiumTSC_Testing.zip"
      ]
    },
    {
      "cell_type": "markdown",
      "metadata": {
        "id": "Oqu6-ZPSp6Lb"
      },
      "source": [
        "Test Dataset: https://btsd.ethz.ch/shareddata/BelgiumTSC/BelgiumTSC_Testing.zip"
      ]
    },
    {
      "cell_type": "markdown",
      "metadata": {
        "id": "SfeCTjfCrL7d"
      },
      "source": [
        "Traindata & TestData Variables"
      ]
    },
    {
      "cell_type": "code",
      "execution_count": 3,
      "metadata": {
        "id": "1sBapkn89hLI"
      },
      "outputs": [],
      "source": [
        "import zipfile\n",
        "with zipfile.ZipFile('/content/BelgiumTSC_Training.zip', 'r') as zip_ref:\n",
        "    zip_ref.extractall('/content/')"
      ]
    },
    {
      "cell_type": "code",
      "execution_count": 4,
      "metadata": {
        "colab": {
          "base_uri": "https://localhost:8080/"
        },
        "id": "AFU-kSejq_ZN",
        "outputId": "bbb596f5-53df-4f28-cb30-806037d1db4f"
      },
      "outputs": [
        {
          "output_type": "stream",
          "name": "stdout",
          "text": [
            "Train 3660\n",
            "TEST 915\n"
          ]
        }
      ],
      "source": [
        "import torchvision\n",
        "test_path = '/content/Testing'\n",
        "train_path = '/content/Training'\n",
        "\n",
        "preprocess = transforms.Compose([\n",
        "    transforms.Resize(256),\n",
        "    transforms.RandomHorizontalFlip(),\n",
        "    transforms.RandomVerticalFlip(),\n",
        "    transforms.RandomAutocontrast(),\n",
        "    transforms.CenterCrop(224),\n",
        "    transforms.ToTensor(),\n",
        "    transforms.Normalize(mean=[0.485, 0.456, 0.406], std=[0.229, 0.224, 0.225]),\n",
        "])\n",
        "\n",
        "\n",
        "data = torchvision.datasets.ImageFolder(root=train_path, transform=preprocess)\n",
        "\n",
        "#train_data_loader = torch.utils.data.DataLoader(train_data, batch_size=64, shuffle=True,  num_workers=0)\n",
        "\n",
        "train_size = int(0.8 * len(data))\n",
        "test_size = len(data) - train_size\n",
        "train_dataset, test_dataset = torch.utils.data.random_split(data, [train_size, test_size])\n",
        "\n",
        "\n",
        "#train_data = torchvision.datasets.ImageFolder(root=train_path,transform=preprocess)\n",
        "train_dataLoader = torch.utils.data.DataLoader(train_dataset, batch_size=32, shuffle=True,  num_workers=2)\n",
        "print('Train',len(train_dataset))\n",
        "\n",
        "#test_data = torchvision.datasets.ImageFolder(root=train_path,transform=preprocess)\n",
        "print('TEST',len(test_dataset))\n",
        "test_dataLoader = torch.utils.data.DataLoader(test_dataset, batch_size=32, shuffle=True,  num_workers=2)"
      ]
    },
    {
      "cell_type": "markdown",
      "metadata": {
        "id": "C9cP0zeztAm3"
      },
      "source": [
        "Hyper Parameters"
      ]
    },
    {
      "cell_type": "code",
      "execution_count": 5,
      "metadata": {
        "id": "7-NMmnl4bf5l"
      },
      "outputs": [],
      "source": [
        "import torch"
      ]
    },
    {
      "cell_type": "code",
      "execution_count": 6,
      "metadata": {
        "colab": {
          "base_uri": "https://localhost:8080/"
        },
        "id": "VlG_N7uIs1VZ",
        "outputId": "056a1241-6365-4648-d9e9-e42b3cb5355f"
      },
      "outputs": [
        {
          "output_type": "stream",
          "name": "stderr",
          "text": [
            "Downloading: \"https://github.com/pytorch/vision/zipball/v0.10.0\" to /root/.cache/torch/hub/v0.10.0.zip\n",
            "/usr/local/lib/python3.8/dist-packages/torchvision/models/_utils.py:208: UserWarning: The parameter 'pretrained' is deprecated since 0.13 and will be removed in 0.15, please use 'weights' instead.\n",
            "  warnings.warn(\n",
            "/usr/local/lib/python3.8/dist-packages/torchvision/models/_utils.py:223: UserWarning: Arguments other than a weight enum or `None` for 'weights' are deprecated since 0.13 and will be removed in 0.15. The current behavior is equivalent to passing `weights=None`.\n",
            "  warnings.warn(msg)\n",
            "/usr/local/lib/python3.8/dist-packages/torchvision/models/googlenet.py:47: FutureWarning: The default weight initialization of GoogleNet will be changed in future releases of torchvision. If you wish to keep the old behavior (which leads to long initialization times due to scipy/scipy#11299), please set init_weights=True.\n",
            "  warnings.warn(\n"
          ]
        },
        {
          "output_type": "stream",
          "name": "stdout",
          "text": [
            "cuda\n"
          ]
        }
      ],
      "source": [
        "num_classes = 62\n",
        "num_epochs = 30\n",
        "batch_size=64\n",
        "learning_rate = 0.01\n",
        "\n",
        "\n",
        "model = torch.hub.load('pytorch/vision:v0.10.0', 'googlenet', pretrained=False)\n",
        "model.eval()\n",
        "\n",
        "device = torch.device('cuda' if torch.cuda.is_available() else 'cpu')\n",
        "print(device)\n",
        "if torch.cuda.is_available():\n",
        "    model.cuda()"
      ]
    },
    {
      "cell_type": "code",
      "execution_count": 7,
      "metadata": {
        "id": "0_oNHE7Zs_6s"
      },
      "outputs": [],
      "source": [
        "# Loss and optimizer\n",
        "criterion = nn.CrossEntropyLoss()\n",
        "optimizer = torch.optim.Adam(model.parameters(), lr=learning_rate)  \n",
        "scheduler = torch.optim.lr_scheduler.CosineAnnealingWarmRestarts(optimizer, T_0=5)"
      ]
    },
    {
      "cell_type": "code",
      "execution_count": 8,
      "metadata": {
        "colab": {
          "base_uri": "https://localhost:8080/"
        },
        "id": "evrjmUxFc_il",
        "outputId": "74aaa8b8-96b8-431f-9d82-537868805dc3"
      },
      "outputs": [
        {
          "output_type": "execute_result",
          "data": {
            "text/plain": [
              "device(type='cuda')"
            ]
          },
          "metadata": {},
          "execution_count": 8
        }
      ],
      "source": [
        "device"
      ]
    },
    {
      "cell_type": "code",
      "execution_count": 9,
      "metadata": {
        "colab": {
          "base_uri": "https://localhost:8080/"
        },
        "id": "683jgtd2tQSH",
        "outputId": "90c81476-675c-469e-ccfe-bc4f1b07600f"
      },
      "outputs": [
        {
          "output_type": "stream",
          "name": "stdout",
          "text": [
            "Epoch [1/30], Step [100/115], Loss: 3.0698, Accuracy: 15.62%\n",
            "Epoch [2/30], Step [100/115], Loss: 3.4239, Accuracy: 18.75%\n",
            "Epoch [3/30], Step [100/115], Loss: 1.8999, Accuracy: 34.38%\n",
            "Epoch [4/30], Step [100/115], Loss: 2.3485, Accuracy: 31.25%\n",
            "Epoch [5/30], Step [100/115], Loss: 2.4082, Accuracy: 40.62%\n",
            "Epoch [6/30], Step [100/115], Loss: 1.5204, Accuracy: 56.25%\n",
            "Epoch [7/30], Step [100/115], Loss: 0.9407, Accuracy: 71.88%\n",
            "Epoch [8/30], Step [100/115], Loss: 0.8964, Accuracy: 75.00%\n",
            "Epoch [9/30], Step [100/115], Loss: 1.4258, Accuracy: 65.62%\n",
            "Epoch [10/30], Step [100/115], Loss: 0.8191, Accuracy: 78.12%\n",
            "Epoch [11/30], Step [100/115], Loss: 0.9405, Accuracy: 75.00%\n",
            "Epoch [12/30], Step [100/115], Loss: 0.4465, Accuracy: 84.38%\n",
            "Epoch [13/30], Step [100/115], Loss: 0.3511, Accuracy: 90.62%\n",
            "Epoch [14/30], Step [100/115], Loss: 0.2315, Accuracy: 90.62%\n",
            "Epoch [15/30], Step [100/115], Loss: 0.4218, Accuracy: 84.38%\n",
            "Epoch [16/30], Step [100/115], Loss: 0.4900, Accuracy: 87.50%\n",
            "Epoch [17/30], Step [100/115], Loss: 0.1334, Accuracy: 96.88%\n",
            "Epoch [18/30], Step [100/115], Loss: 0.1029, Accuracy: 100.00%\n",
            "Epoch [19/30], Step [100/115], Loss: 0.2482, Accuracy: 90.62%\n",
            "Epoch [20/30], Step [100/115], Loss: 0.4315, Accuracy: 87.50%\n",
            "Epoch [21/30], Step [100/115], Loss: 0.0676, Accuracy: 100.00%\n",
            "Epoch [22/30], Step [100/115], Loss: 0.0376, Accuracy: 100.00%\n",
            "Epoch [23/30], Step [100/115], Loss: 0.1796, Accuracy: 93.75%\n",
            "Epoch [24/30], Step [100/115], Loss: 0.2670, Accuracy: 90.62%\n",
            "Epoch [25/30], Step [100/115], Loss: 0.0404, Accuracy: 100.00%\n",
            "Epoch [26/30], Step [100/115], Loss: 0.0777, Accuracy: 96.88%\n",
            "Epoch [27/30], Step [100/115], Loss: 0.1374, Accuracy: 90.62%\n",
            "Epoch [28/30], Step [100/115], Loss: 0.1308, Accuracy: 93.75%\n",
            "Epoch [29/30], Step [100/115], Loss: 0.0918, Accuracy: 96.88%\n",
            "Epoch [30/30], Step [100/115], Loss: 0.3285, Accuracy: 90.62%\n",
            "######## Training Finished in 479.6628186702728 seconds ###########\n",
            "Accuracy List:  [15.625, 18.75, 34.375, 31.25, 40.625, 56.25, 71.875, 75.0, 65.625, 78.125, 75.0, 84.375, 90.625, 90.625, 84.375, 87.5, 96.875, 100.0, 90.625, 87.5, 100.0, 100.0, 93.75, 90.625, 100.0, 96.875, 90.625, 93.75, 96.875, 90.625] Steps List:  [100, 100, 100, 100, 100, 100, 100, 100, 100, 100, 100, 100, 100, 100, 100, 100, 100, 100, 100, 100, 100, 100, 100, 100, 100, 100, 100, 100, 100, 100]\n"
          ]
        }
      ],
      "source": [
        "import time\n",
        "import matplotlib.pyplot as plt\n",
        "import numpy as np\n",
        "\n",
        "start_time = time.time()\n",
        "total_step = len(train_dataLoader)\n",
        "accuracy_list = []\n",
        "loss_list = []\n",
        "steps_list = []\n",
        "model.train()\n",
        "\n",
        "for epoch in range(num_epochs):\n",
        "  for i, data in enumerate(train_dataLoader):\n",
        "    images, labels = data[0].to(device), data[1].to(device)\n",
        "\n",
        "    #Forward Pass\n",
        "    outputs = model(images).logits\n",
        "    loss = criterion(outputs, labels)\n",
        "    #Backpropogation and Optimize\n",
        "    optimizer.zero_grad()\n",
        "    loss.backward()\n",
        "    optimizer.step()\n",
        "    \n",
        "    #Train Accuracy\n",
        "    total = labels.size(0)\n",
        "    _, predicted = torch.max(outputs.data,1)\n",
        "\n",
        "    correct = (predicted == labels).sum().item()\n",
        "    \n",
        "    steps = i + 1\n",
        "    if(steps%100==0):\n",
        "      accuracy = (correct / total) * 100\n",
        "      accuracy_list.append(accuracy)\n",
        "      steps_list.append(steps)\n",
        "      loss_list.append(loss.item())\n",
        "      print('Epoch [{}/{}], Step [{}/{}], Loss: {:.4f}, Accuracy: {:.2f}%'\n",
        "            .format(epoch + 1, num_epochs, steps, total_step, loss.item(),\n",
        "            accuracy))\n",
        "    scheduler.step()\n",
        "    \n",
        "    \n",
        "\n",
        "print(\"######## Training Finished in {} seconds ###########\".format(time.time()-start_time))\n",
        "print(\"Accuracy List: \",accuracy_list, \"Steps List: \",steps_list)"
      ]
    },
    {
      "cell_type": "code",
      "execution_count": 10,
      "metadata": {
        "colab": {
          "base_uri": "https://localhost:8080/",
          "height": 295
        },
        "id": "tWIvkezb1ryG",
        "outputId": "a2fcd7ff-0dbf-4b19-98f6-0a349991cff6"
      },
      "outputs": [
        {
          "output_type": "display_data",
          "data": {
            "text/plain": [
              "<Figure size 432x288 with 1 Axes>"
            ],
            "image/png": "[encoded data removed]"
          },
          "metadata": {
            "needs_background": "light"
          }
        }
      ],
      "source": [
        "import matplotlib.pyplot as pyplot\n",
        "import numpy as np\n",
        "\n",
        "y_axis = np.array(accuracy_list)\n",
        "\n",
        "pyplot.title(\"Accuracy at each Step for GoogleNet\")\n",
        "pyplot.xlabel(\"Steps\")\n",
        "pyplot.ylabel(\"Accuracies (%)\")\n",
        "pyplot.plot(y_axis)\n",
        "\n",
        "pyplot.show()"
      ]
    },
    {
      "cell_type": "code",
      "source": [
        "y_axis = np.array(loss_list)\n",
        "\n",
        "pyplot.title(\"Loss at each Step for GoogleNet\")\n",
        "pyplot.xlabel(\"Steps\")\n",
        "pyplot.ylabel(\"Loss (%)\")\n",
        "pyplot.plot(y_axis)\n",
        "\n",
        "pyplot.show()"
      ],
      "metadata": {
        "colab": {
          "base_uri": "https://localhost:8080/",
          "height": 295
        },
        "id": "9Wbv60EyQ-FZ",
        "outputId": "125d3beb-ccbf-499e-d405-feffbba0ec2f"
      },
      "execution_count": 11,
      "outputs": [
        {
          "output_type": "display_data",
          "data": {
            "text/plain": [
              "<Figure size 432x288 with 1 Axes>"
            ],
            "image/png": "[encoded data removed]"
          },
          "metadata": {
            "needs_background": "light"
          }
        }
      ]
    },
    {
      "cell_type": "code",
      "execution_count": 12,
      "metadata": {
        "colab": {
          "base_uri": "https://localhost:8080/"
        },
        "id": "17xuXwM077j_",
        "outputId": "c2489723-f0f2-42e2-8f0f-3f4151d0ab4c"
      },
      "outputs": [
        {
          "output_type": "stream",
          "name": "stderr",
          "text": [
            "<ipython-input-12-cdcabdabfae6>:15: UserWarning: volatile was removed and now has no effect. Use `with torch.no_grad():` instead.\n",
            "  data, target = Variable(data, volatile=True), Variable(target)\n",
            "/usr/local/lib/python3.8/dist-packages/torch/nn/_reduction.py:42: UserWarning: size_average and reduce args will be deprecated, please use reduction='sum' instead.\n",
            "  warnings.warn(warning.format(ret))\n"
          ]
        },
        {
          "output_type": "stream",
          "name": "stdout",
          "text": [
            "tensor([60, 32, 38,  7,  1, 61,  1, 61, 25, 53, 47, 18, 39, 16, 31, 20,  1, 19,\n",
            "        61, 54, 32, 46, 19, 61, 56, 18,  3, 53, 44, 47, 19, 38],\n",
            "       device='cuda:0')\n",
            "tensor([39, 10, 53, 39, 13, 45, 56, 39, 61, 41, 18, 53, 28, 36,  1, 26,  7, 56,\n",
            "        38, 40, 47, 56, 47, 32, 56,  3, 32, 28, 47, 39, 22, 53],\n",
            "       device='cuda:0')\n",
            "tensor([53, 32, 61, 22, 39, 13, 24, 54, 32, 40, 18,  7, 61,  6, 46, 61,  3, 41,\n",
            "        45, 22,  7, 13, 61, 61, 22, 47, 22, 19, 13, 48, 41,  1],\n",
            "       device='cuda:0')\n",
            "tensor([29, 53, 53, 32, 40, 56, 35,  7, 47, 47, 48,  2,  7, 50, 17, 38, 61, 14,\n",
            "        22, 47, 44, 37, 28, 39, 38,  1, 53, 14, 37, 56, 38, 39],\n",
            "       device='cuda:0')\n",
            "tensor([32, 61, 53,  3, 53, 40, 32, 34, 10, 32, 17, 22, 59, 21, 47, 43, 17, 43,\n",
            "        32, 28, 43, 51, 61, 13, 41, 45, 47, 21, 12, 38, 38, 19],\n",
            "       device='cuda:0')\n",
            "tensor([38, 38, 53, 61, 19, 37, 22, 35,  8, 22, 61, 47,  8, 32, 53, 53, 47, 61,\n",
            "         1, 27, 39, 40, 32,  7, 54, 56,  1, 26, 19, 32, 41, 59],\n",
            "       device='cuda:0')\n",
            "tensor([61, 19, 19, 22, 22, 19, 56, 43,  7, 57, 19,  6, 61, 33, 32, 22, 53,  9,\n",
            "        17, 47,  7, 28, 22, 39, 41, 32,  1, 23, 57, 32,  7, 38],\n",
            "       device='cuda:0')\n",
            "tensor([53, 51,  7, 22, 44, 61, 45, 45, 45, 61, 38, 53, 34, 57, 56, 39, 24, 22,\n",
            "        18, 54, 19, 46, 41, 47, 39, 41, 40, 32, 14, 32, 35, 59],\n",
            "       device='cuda:0')\n",
            "tensor([21, 56, 37, 40, 41, 53, 54, 40, 54, 30, 22, 25, 31, 22, 61, 53, 57, 45,\n",
            "        20, 47, 22, 28,  0, 59, 54, 19, 61, 19, 31, 28, 52, 38],\n",
            "       device='cuda:0')\n",
            "tensor([22, 61, 38, 32, 47, 30, 28, 39, 13, 32, 19, 39, 40, 32, 22, 32, 57, 40,\n",
            "        61, 19, 59, 22, 37, 19, 38, 53, 31, 41, 59, 21, 61, 28],\n",
            "       device='cuda:0')\n",
            "tensor([56, 61, 28, 37, 39, 40, 41, 13, 39,  6, 19, 19, 50, 46, 38, 41, 56, 38,\n",
            "        39, 28, 22, 22, 59, 38, 19, 61, 61, 53, 37,  1, 37, 46],\n",
            "       device='cuda:0')\n",
            "tensor([22, 32, 56, 38, 45, 17, 40, 54, 38, 61, 22, 47, 13, 39, 13, 24, 57, 53,\n",
            "        41, 17,  7, 40, 34, 47, 54, 13, 61, 40, 28, 54,  7, 61],\n",
            "       device='cuda:0')\n",
            "tensor([36, 17, 17, 56, 18, 52, 22, 47, 19,  1,  7, 47, 31, 38, 40, 47, 40, 32,\n",
            "        17, 19, 47, 17, 45, 14,  7, 32, 18, 40, 18, 28, 19, 61],\n",
            "       device='cuda:0')\n",
            "tensor([ 9, 22, 39, 53, 32, 25, 61, 56, 53,  7, 22, 22,  0, 32, 19, 39, 22, 51,\n",
            "        47, 22, 61, 40, 40, 22, 43, 28, 47, 47, 20, 61, 21, 42],\n",
            "       device='cuda:0')\n",
            "tensor([61, 40, 28, 38, 31, 41,  1, 22, 57, 56, 15, 19, 19, 41, 22, 54, 45, 54,\n",
            "        22, 40, 39, 39, 56, 44, 22, 14, 38,  7, 38, 38, 51,  7],\n",
            "       device='cuda:0')\n",
            "tensor([56, 28, 61, 22, 54, 38, 57, 44, 18, 40, 11, 61, 47, 47, 40, 18, 46, 53,\n",
            "        40,  3, 53, 32, 19, 53, 40, 47, 53, 41, 32,  7, 47, 57],\n",
            "       device='cuda:0')\n",
            "tensor([13,  7, 61, 18, 38, 40, 28, 19, 37, 37, 54, 13, 40, 47, 55, 13, 40, 53,\n",
            "        32, 39, 61, 53, 37, 19,  9, 39, 46, 40, 19, 39, 20, 22],\n",
            "       device='cuda:0')\n",
            "tensor([38,  1,  3, 35, 61,  7, 19, 45, 49, 32, 22, 20, 32,  1, 52, 32, 28, 35,\n",
            "        32, 28, 45, 44, 14, 21, 12, 38, 44,  7, 53, 32, 54, 36],\n",
            "       device='cuda:0')\n",
            "tensor([28, 45, 13, 41, 32, 59, 15,  1, 32, 39, 17, 22, 38, 56,  7, 40, 37, 53,\n",
            "        34, 35, 29, 45,  7, 53, 38, 56, 17, 10, 47, 32, 38, 38],\n",
            "       device='cuda:0')\n",
            "tensor([34, 22, 38, 39, 41,  1,  4, 53, 61, 32, 39, 57, 38, 31, 14, 41, 39, 56,\n",
            "        35,  1, 22, 13, 46, 51,  8, 45, 37, 32, 28, 61, 31, 40],\n",
            "       device='cuda:0')\n",
            "tensor([17, 41, 38, 38, 61, 45, 32,  0, 40, 47, 37, 41, 40, 57, 35, 17, 61, 32,\n",
            "        57, 40, 61, 21, 22, 53, 45, 22, 61, 27, 38, 39, 40, 57],\n",
            "       device='cuda:0')\n",
            "tensor([40, 38, 22, 54,  1, 56, 39, 32, 41, 38, 27, 32, 40, 54, 22, 53, 28,  7,\n",
            "        38,  7, 61, 19, 19, 22,  1, 17, 19,  9, 40, 35,  7, 19],\n",
            "       device='cuda:0')\n",
            "tensor([42, 38,  1, 32, 61, 44, 35, 54, 61, 18, 22, 22, 38, 18, 22, 13, 38, 40,\n",
            "        56, 19, 13, 38, 61, 38, 17, 30, 35, 38, 17,  1, 53, 32],\n",
            "       device='cuda:0')\n",
            "tensor([19, 22, 46, 35, 61, 32, 22, 53, 28, 53, 41, 40,  7, 54, 33, 38, 18, 40,\n",
            "        61, 38, 54, 54, 44, 13, 40, 15, 18, 40, 47, 19, 19, 25],\n",
            "       device='cuda:0')\n",
            "tensor([46, 22, 22, 39, 40, 37, 47, 32, 53, 38, 45, 22, 32, 51, 19, 54, 36, 32,\n",
            "        40, 32, 20, 19, 32, 40, 39, 40, 22, 21, 39, 61, 22, 21],\n",
            "       device='cuda:0')\n",
            "tensor([29, 32, 61, 61, 53, 47, 28, 61, 61, 34, 24, 32, 24, 61, 47, 54, 13, 47,\n",
            "        41, 39, 41, 12, 32, 38,  1, 54, 32, 22, 18, 47, 30, 35],\n",
            "       device='cuda:0')\n",
            "tensor([ 1, 32, 39, 37, 22, 38, 37, 22,  7, 39, 22, 19, 41, 18, 32, 58, 18, 29,\n",
            "        41, 61, 40, 37, 13, 54, 54, 28, 22, 41, 32, 41, 11, 38],\n",
            "       device='cuda:0')\n",
            "tensor([20, 34, 40,  7, 38, 39, 28, 34, 22, 21, 37, 57, 40, 22, 40, 39, 17, 24,\n",
            "        22, 22, 40,  7, 22, 40, 54, 17, 22, 40, 17, 28,  9, 53],\n",
            "       device='cuda:0')\n",
            "tensor([22, 38, 41, 33, 57,  1, 17, 38, 32, 22, 46, 61,  7, 22, 54,  7, 38, 22,\n",
            "        37], device='cuda:0')\n",
            "\n",
            "Average Validation loss: 0.15940\tAccuracy: 95.30055236816406 %\n"
          ]
        }
      ],
      "source": [
        "from torch.autograd import Variable\n",
        "train_loss = []\n",
        "train_accuracy = []\n",
        "valid_loss = []\n",
        "valid_accuracy = []\n",
        "import torch.nn.functional as F\n",
        "\n",
        "def evaluate(data_loader):\n",
        "    model.eval()\n",
        "    loss = 0\n",
        "    correct = 0\n",
        "    total = 0\n",
        "    for data, target in data_loader:\n",
        "       \n",
        "        data, target = Variable(data, volatile=True), Variable(target)\n",
        "        if torch.cuda.is_available():\n",
        "            data = data.cuda()\n",
        "            target = target.cuda()\n",
        "        \n",
        "        output = model(data)\n",
        "\n",
        "        loss += F.cross_entropy(output, target, size_average=False).item()\n",
        "        pred = torch.max(output.data, 1)[1]\n",
        "        print(pred)\n",
        "        total += len(data)\n",
        "        correct += (pred == target).sum()\n",
        "    loss /= len(data_loader.dataset)\n",
        "    valid_loss.append(loss)    \n",
        "    valid_accuracy.append(100 * correct / total)\n",
        "    print('\\nAverage Validation loss: {:.5f}\\tAccuracy: {} %'.format(loss, 100 * correct / total))\n",
        "\n",
        "\n",
        "evaluate(test_dataLoader)"
      ]
    },
    {
      "cell_type": "code",
      "source": [
        "print('Accuracy List :', accuracy_list)\n",
        "print('Loss List :', loss_list)"
      ],
      "metadata": {
        "colab": {
          "base_uri": "https://localhost:8080/"
        },
        "id": "IYhatD6vRkUc",
        "outputId": "5e3f6f67-7205-4e87-d540-9318ae3e060d"
      },
      "execution_count": 13,
      "outputs": [
        {
          "output_type": "stream",
          "name": "stdout",
          "text": [
            "Accuracy List : [15.625, 18.75, 34.375, 31.25, 40.625, 56.25, 71.875, 75.0, 65.625, 78.125, 75.0, 84.375, 90.625, 90.625, 84.375, 87.5, 96.875, 100.0, 90.625, 87.5, 100.0, 100.0, 93.75, 90.625, 100.0, 96.875, 90.625, 93.75, 96.875, 90.625]\n",
            "Loss List : [3.0697731971740723, 3.4239444732666016, 1.899926781654358, 2.348480701446533, 2.408179998397827, 1.5203582048416138, 0.9406969547271729, 0.8963980674743652, 1.425756812095642, 0.8191356062889099, 0.9404525756835938, 0.44649532437324524, 0.3511180877685547, 0.2315158247947693, 0.4217510521411896, 0.49003344774246216, 0.1334431916475296, 0.10286634415388107, 0.2481842041015625, 0.43154576420783997, 0.06761292368173599, 0.037610236555337906, 0.17957961559295654, 0.2670167088508606, 0.04044526070356369, 0.07766223698854446, 0.13743525743484497, 0.13075023889541626, 0.09183083474636078, 0.32847002148628235]\n"
          ]
        }
      ]
    },
    {
      "cell_type": "code",
      "execution_count": 16,
      "metadata": {
        "id": "pkrgVEmnwjzQ"
      },
      "outputs": [],
      "source": [
        "PATH = '/content/BTSD_GoogleNet.pt'\n",
        "torch.save({\n",
        "            'loss': train_loss,\n",
        "            'accuracy': accuracy_list\n",
        "            }, PATH)"
      ]
    }
  ],
  "metadata": {
    "accelerator": "GPU",
    "colab": {
      "provenance": []
    },
    "gpuClass": "standard",
    "kernelspec": {
      "display_name": "Python 3",
      "name": "python3"
    },
    "language_info": {
      "name": "python"
    }
  },
  "nbformat": 4,
  "nbformat_minor": 0
}