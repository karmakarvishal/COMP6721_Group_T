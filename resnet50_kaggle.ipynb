{
  "cells": [
    {
      "cell_type": "code",
      "execution_count": 5,
      "metadata": {
        "colab": {
          "base_uri": "https://localhost:8080/"
        },
        "id": "mCh_0fwASxCe",
        "outputId": "59c5c376-d6a4-40b9-a4c7-c3ad4617d0f6"
      },
      "outputs": [
        {
          "output_type": "stream",
          "name": "stdout",
          "text": [
            "Drive already mounted at /content/drive; to attempt to forcibly remount, call drive.mount(\"/content/drive\", force_remount=True).\n"
          ]
        }
      ],
      "source": [
        "#instructions: https://github.com/Kaggle/kaggle-api\n",
        "#https://www.kaggle.com/general/74235\n",
        "from google.colab import drive\n",
        "drive.mount('/content/drive')"
      ]
    },
    {
      "cell_type": "code",
      "source": [
        "path = '/content/drive/MyDrive/archive.zip'\n",
        "import zipfile\n",
        "with zipfile.ZipFile(path, 'r') as zip_ref:\n",
        "    zip_ref.extractall('content')"
      ],
      "metadata": {
        "id": "ZEd6MJyoDW2n"
      },
      "execution_count": 2,
      "outputs": []
    },
    {
      "cell_type": "code",
      "source": [
        "#from kaggle.api.kaggle_api_extended import KaggleApi\n",
        "#api = KaggleApi()\n",
        "#api.authenticate()\n",
        "#api.dataset_download_files(\"gpiosenka/callback-to-continue-or-halt-training-f1score-95\")\n",
        "\n",
        "#! mkdir /.kaggle\n",
        "\n",
        "#! cp kaggle.json /.kaggle/\n",
        "\n",
        "#! chmod 600 /.kaggle/kaggle.json\n",
        "\n",
        "#! kaggle datasets list\n",
        "\n",
        "#! kaggle datasets download -d gpiosenka/callback-to-continue-or-halt-training-f1score-95\n",
        "#! kaggle kernels output gpiosenka/callback-to-continue-or-halt-training-f1score-95\n",
        "#! kaggle competitions download -d gpiosenka/callback-to-continue-or-halt-training-f1score-95\n",
        "#!kaggle datasets download -d 'gpiosenka/callback-to-continue-or-halt-training-f1score-95'\n",
        "#!kaggle competitions download -c 'gpiosenka/callback-to-continue-or-halt-training-f1score-95'"
      ],
      "metadata": {
        "colab": {
          "base_uri": "https://localhost:8080/"
        },
        "id": "FJjXNqCe-_bA",
        "outputId": "f4532e84-36d9-458d-8f78-1c60b9bda075"
      },
      "execution_count": 44,
      "outputs": [
        {
          "output_type": "stream",
          "name": "stdout",
          "text": [
            "Kernel log downloaded to /content/callback-to-continue-or-halt-training-f1score-95.log \n"
          ]
        }
      ]
    },
    {
      "cell_type": "code",
      "source": [
        "from google.colab import drive\n",
        "drive.mount('/content/drive')"
      ],
      "metadata": {
        "id": "ftdshml0Aw1k"
      },
      "execution_count": null,
      "outputs": []
    },
    {
      "cell_type": "markdown",
      "source": [],
      "metadata": {
        "id": "KHC8-85G--uf"
      }
    },
    {
      "cell_type": "code",
      "source": [],
      "metadata": {
        "id": "dHVYUmG8TpWc"
      },
      "execution_count": null,
      "outputs": []
    },
    {
      "cell_type": "code",
      "source": [
        "import torch\n",
        "import numpy as np\n",
        "import torchvision.transforms as transforms\n",
        "import torchvision\n",
        "import torch.utils.data as td\n",
        "import matplotlib.pyplot as plt\n",
        "import torch.nn as nn\n",
        "from PIL import Image\n",
        "import torch.nn.functional as F\n",
        "import gc\n",
        "import torchvision.datasets as datasets\n",
        "\n",
        "\n",
        "\n",
        "preprocess = transforms.Compose([\n",
        "    transforms.Resize((224,224)),\n",
        "    transforms.ToTensor(),\n",
        "    transforms.Normalize(\n",
        "        mean=[0.4914, 0.4822, 0.4465],\n",
        "        std=[0.2023, 0.1994, 0.2010],\n",
        "    ),\n",
        "])\n",
        "train_path = \"/content/content/Data_images/Train\"\n",
        "#test_path = \"/content/Testing\"\n",
        "\n",
        "#data set from https://btsd.ethz.ch/shareddata/\n",
        "data = torchvision.datasets.ImageFolder(root=train_path, transform=preprocess)\n",
        "\n",
        "#train_data_loader = torch.utils.data.DataLoader(train_data, batch_size=64, shuffle=True,  num_workers=0)\n",
        "\n",
        "train_size = int(0.08 * len(data))\n",
        "test_size = int(len(data)*0.02)\n",
        "valid_size = int(len(data) - train_size - test_size)\n",
        "train_dataset, test_dataset,valid_dataset = torch.utils.data.random_split(data, [train_size, test_size,valid_size])\n",
        "train_data_loader = torch.utils.data.DataLoader(train_dataset, batch_size=64, shuffle=True,  num_workers=0)\n",
        "test_data_loader = torch.utils.data.DataLoader(test_dataset, batch_size=64, shuffle=True,  num_workers=0)\n",
        "print(len(train_dataset))\n",
        "print(len(train_data_loader))"
      ],
      "metadata": {
        "id": "S1NkGRACTFd1",
        "colab": {
          "base_uri": "https://localhost:8080/"
        },
        "outputId": "80c917ac-fae4-4f4d-f470-8de71e2e401e"
      },
      "execution_count": 7,
      "outputs": [
        {
          "output_type": "stream",
          "name": "stdout",
          "text": [
            "7794\n",
            "122\n"
          ]
        }
      ]
    },
    {
      "cell_type": "code",
      "execution_count": 8,
      "metadata": {
        "id": "En_h1-h3SxCg"
      },
      "outputs": [],
      "source": [
        "class ResidualBlock(nn.Module):\n",
        "    def __init__(self, in_channels, out_channels, stride = 1, downsample = None):\n",
        "        super(ResidualBlock, self).__init__()\n",
        "        self.conv1 = nn.Sequential(\n",
        "                        nn.Conv2d(in_channels, out_channels, kernel_size = 3, stride = stride, padding = 1),\n",
        "                        nn.BatchNorm2d(out_channels),\n",
        "                        nn.ReLU())\n",
        "        self.conv2 = nn.Sequential(\n",
        "                        nn.Conv2d(out_channels, out_channels, kernel_size = 3, stride = 1, padding = 1),\n",
        "                        nn.BatchNorm2d(out_channels))\n",
        "        self.downsample = downsample\n",
        "        self.relu = nn.ReLU()\n",
        "        self.out_channels = out_channels\n",
        "        \n",
        "    def forward(self, x):\n",
        "        residual = x\n",
        "        out = self.conv1(x)\n",
        "        out = self.conv2(out)\n",
        "        if self.downsample:\n",
        "            residual = self.downsample(x)\n",
        "        out += residual\n",
        "        out = self.relu(out)\n",
        "        return out\n",
        "    \n",
        "class ResNet(nn.Module):\n",
        "    def __init__(self, block, layers, num_classes = 205):\n",
        "        super(ResNet, self).__init__()\n",
        "        self.inplanes = 64\n",
        "        self.conv1 = nn.Sequential(\n",
        "                        nn.Conv2d(3, 64, kernel_size = 7, stride = 2, padding = 3),\n",
        "                        nn.BatchNorm2d(64),\n",
        "                        nn.ReLU())\n",
        "        self.maxpool = nn.MaxPool2d(kernel_size = 3, stride = 2, padding = 1)\n",
        "        self.layer0 = self._make_layer(block, 64, layers[0], stride = 1)\n",
        "        self.layer1 = self._make_layer(block, 128, layers[1], stride = 2)\n",
        "        self.layer2 = self._make_layer(block, 256, layers[2], stride = 2)\n",
        "        self.layer3 = self._make_layer(block, 512, layers[3], stride = 2)\n",
        "        self.avgpool = nn.AvgPool2d(7, stride=1)\n",
        "        self.fc = nn.Linear(512, num_classes)\n",
        "        \n",
        "    def _make_layer(self, block, planes, blocks, stride=1):\n",
        "        downsample = None\n",
        "        if stride != 1 or self.inplanes != planes:\n",
        "            \n",
        "            downsample = nn.Sequential(\n",
        "                nn.Conv2d(self.inplanes, planes, kernel_size=1, stride=stride),\n",
        "                nn.BatchNorm2d(planes),\n",
        "            )\n",
        "        layers = []\n",
        "        layers.append(block(self.inplanes, planes, stride, downsample))\n",
        "        self.inplanes = planes\n",
        "        for i in range(1, blocks):\n",
        "            layers.append(block(self.inplanes, planes))\n",
        "\n",
        "        return nn.Sequential(*layers)\n",
        "    \n",
        "    \n",
        "    def forward(self, x):\n",
        "        x = self.conv1(x)\n",
        "        x = self.maxpool(x)\n",
        "        x = self.layer0(x)\n",
        "        x = self.layer1(x)\n",
        "        x = self.layer2(x)\n",
        "        x = self.layer3(x)\n",
        "\n",
        "        x = self.avgpool(x)\n",
        "        x = x.view(x.size(0), -1)\n",
        "        x = self.fc(x)\n",
        "\n",
        "        return x\n",
        "\n",
        "    num_classes = 205\n",
        "num_epochs = 20\n",
        "batch_size = 16\n",
        "learning_rate = 0.01\n",
        "use_cuda = torch.cuda.is_available()\n",
        "device = torch.device(\"cuda\" if use_cuda else \"cpu\")\n",
        "\n",
        "model = ResNet(ResidualBlock, [3, 4, 6, 3]).to(device)\n",
        "\n",
        "# Loss and optimizer\n",
        "criterion = nn.CrossEntropyLoss()\n",
        "#optimizer = torch.optim.SGD(model.parameters(), lr=learning_rate, weight_decay = 0.001, momentum = 0.9)  \n",
        "optimizer = torch.optim.SGD(model.parameters(), lr=learning_rate)\n",
        "\n",
        "# Train the model\n",
        "total_step = len(train_data_loader)\n",
        "training_accuracies = []\n",
        "training_losses = []\n",
        "test_accuracies = []\n",
        "test_losses = []"
      ]
    },
    {
      "cell_type": "code",
      "execution_count": null,
      "metadata": {
        "colab": {
          "base_uri": "https://localhost:8080/"
        },
        "id": "HLjWiTJvSxCh",
        "outputId": "4775553b-6fa3-471e-cbe3-a1387c709602"
      },
      "outputs": [
        {
          "output_type": "stream",
          "name": "stdout",
          "text": [
            "Training set: Epoch [1/20], Loss: 4.1901,  Accuracy: 12.00%, \n",
            "Test set: Epoch [1/20], Loss: 3.6454,  Accuracy: 12.32%, \n",
            "Training set: Epoch [2/20], Loss: 3.3840,  Accuracy: 12.00%, \n",
            "Test set: Epoch [2/20], Loss: 3.7921,  Accuracy: 18.69%, \n",
            "Training set: Epoch [3/20], Loss: 2.8577,  Accuracy: 26.00%, \n",
            "Test set: Epoch [3/20], Loss: 2.7589,  Accuracy: 28.59%, \n",
            "Training set: Epoch [4/20], Loss: 2.2343,  Accuracy: 36.00%, \n",
            "Test set: Epoch [4/20], Loss: 2.8501,  Accuracy: 36.34%, \n",
            "Training set: Epoch [5/20], Loss: 1.6061,  Accuracy: 52.00%, \n",
            "Test set: Epoch [5/20], Loss: 1.8092,  Accuracy: 46.05%, \n"
          ]
        }
      ],
      "source": [
        "for epoch in range(num_epochs):\n",
        "    for i, (images, labels) in enumerate(train_data_loader):  \n",
        "        # Move tensors to the configured device\n",
        "        images = images.to(device)\n",
        "        labels = labels.to(device)\n",
        "        \n",
        "        # Forward pass\n",
        "        outputs = model(images)\n",
        "        loss = criterion(outputs, labels)\n",
        "        \n",
        "        # Backward and optimize\n",
        "        optimizer.zero_grad()\n",
        "        loss.backward()\n",
        "        optimizer.step()\n",
        "        #accuracy\n",
        "    total = labels.size(0)\n",
        "    _,predicted = torch.max(outputs.data, 1)\n",
        "    correct = (predicted == labels).sum().item()\n",
        "    accuracy = (correct / total) * 100\n",
        "\n",
        "    del images, labels, outputs\n",
        "    torch.cuda.empty_cache()\n",
        "    gc.collect()\n",
        "    accuracy = (correct / total) * 100\n",
        "    training_accuracies.append(accuracy)\n",
        "    training_losses.append(loss.item())\n",
        "\n",
        "    print ('Training set: Epoch [{}/{}], Loss: {:.4f},  Accuracy: {:.2f}%, ' \n",
        "                .format(epoch+1, num_epochs, loss.item(), accuracy))\n",
        "\n",
        "    with torch.no_grad():\n",
        "        correct = 0\n",
        "        total = 0\n",
        "        for images, labels in test_data_loader:\n",
        "            images = images.to(device)\n",
        "            labels = labels.to(device)\n",
        "            outputs = model(images)\n",
        "            _, predicted = torch.max(outputs.data, 1)\n",
        "            total += labels.size(0)\n",
        "            correct += (predicted == labels).sum().item()\n",
        "            loss_test = criterion(outputs, labels)\n",
        "            del images, labels, outputs\n",
        "        accuracy = (correct / total) * 100    \n",
        "        test_accuracies.append(accuracy)\n",
        "        test_losses.append(loss_test.item())\n",
        "        print ('Test set: Epoch [{}/{}], Loss: {:.4f},  Accuracy: {:.2f}%, ' \n",
        "                    .format(epoch+1, num_epochs, loss_test.item(), accuracy))"
      ]
    },
    {
      "cell_type": "code",
      "execution_count": null,
      "metadata": {
        "id": "kfg9No6KSxCj"
      },
      "outputs": [],
      "source": []
    }
  ],
  "metadata": {
    "kernelspec": {
      "display_name": "Python 3.9.13 64-bit (microsoft store)",
      "language": "python",
      "name": "python3"
    },
    "language_info": {
      "codemirror_mode": {
        "name": "ipython",
        "version": 3
      },
      "file_extension": ".py",
      "mimetype": "text/x-python",
      "name": "python",
      "nbconvert_exporter": "python",
      "pygments_lexer": "ipython3",
      "version": "3.9.13"
    },
    "orig_nbformat": 4,
    "vscode": {
      "interpreter": {
        "hash": "d2a1693a8671055a53c2c6d410efa674a57679ce80639da1bc70e7756fb26035"
      }
    },
    "colab": {
      "provenance": [],
      "collapsed_sections": []
    },
    "accelerator": "GPU",
    "gpuClass": "standard"
  },
  "nbformat": 4,
  "nbformat_minor": 0
}