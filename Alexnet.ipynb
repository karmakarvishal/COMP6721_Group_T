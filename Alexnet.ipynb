{
  "nbformat": 4,
  "nbformat_minor": 0,
  "metadata": {
    "colab": {
      "provenance": [],
      "collapsed_sections": [],
      "authorship_tag": "ABX9TyMueU+XjOpgnmiBVc7WjpBk",
      "include_colab_link": true
    },
    "kernelspec": {
      "name": "python3",
      "display_name": "Python 3"
    },
    "language_info": {
      "name": "python"
    },
    "accelerator": "GPU",
    "gpuClass": "standard"
  },
  "cells": [
    {
      "cell_type": "markdown",
      "metadata": {
        "id": "view-in-github",
        "colab_type": "text"
      },
      "source": [
        "<a href=\"https://colab.research.google.com/github/karmakarvishal/Traffic-Sign-Classification/blob/vkDev/Alexnet.ipynb\" target=\"_parent\"><img src=\"https://colab.research.google.com/assets/colab-badge.svg\" alt=\"Open In Colab\"/></a>"
      ]
    },
    {
      "cell_type": "code",
      "execution_count": 1,
      "metadata": {
        "colab": {
          "base_uri": "https://localhost:8080/"
        },
        "id": "owdbGmd102Ii",
        "outputId": "06585062-517e-44e0-8af1-53299ffdf073"
      },
      "outputs": [
        {
          "output_type": "stream",
          "name": "stdout",
          "text": [
            "--2022-11-12 08:13:09--  https://sid.erda.dk/public/archives/daaeac0d7ce1152aea9b61d9f1e19370/GTSRB_Final_Training_Images.zip\n",
            "Resolving sid.erda.dk (sid.erda.dk)... 130.225.104.13\n",
            "Connecting to sid.erda.dk (sid.erda.dk)|130.225.104.13|:443... connected.\n",
            "HTTP request sent, awaiting response... 200 OK\n",
            "Length: 276294756 (263M) [application/zip]\n",
            "Saving to: ‘GTSRB_Final_Training_Images.zip’\n",
            "\n",
            "GTSRB_Final_Trainin 100%[===================>] 263.50M  13.8MB/s    in 21s     \n",
            "\n",
            "2022-11-12 08:13:32 (12.3 MB/s) - ‘GTSRB_Final_Training_Images.zip’ saved [276294756/276294756]\n",
            "\n"
          ]
        }
      ],
      "source": [
        "!wget https://sid.erda.dk/public/archives/daaeac0d7ce1152aea9b61d9f1e19370/GTSRB_Final_Training_Images.zip"
      ]
    },
    {
      "cell_type": "code",
      "source": [
        "import torch\n",
        "import torchvision\n",
        "from torchvision import transforms\n",
        "import torch.utils.data as data\n",
        "import torch.optim as optim\n",
        "import torch.nn as nn\n",
        "from torchsummary import summary\n",
        "import time\n",
        "import numpy as np\n",
        "import os\n",
        "import matplotlib.pyplot as plt\n",
        "\n",
        "from sklearn.metrics import confusion_matrix\n",
        "from sklearn.metrics import classification_report\n",
        "\n",
        "torch.cuda.empty_cache()\n",
        "\n",
        "data_transforms = transforms.Compose([\n",
        "    transforms.Resize([112, 112]),\n",
        "    transforms.ToTensor()\n",
        "    ])\n",
        "\n",
        "BATCH_SIZE = 256\n",
        "learning_rate = 0.001\n",
        "EPOCHS = 15\n",
        "numClasses = 43\n",
        "\n",
        "\n",
        "train_data_path = \"/content/data/GTSRB/Final_Training/Images\"\n",
        "train_data = torchvision.datasets.ImageFolder(root = train_data_path, transform = data_transforms)\n",
        "\n",
        "# Divide data into training and validation (0.8 and 0.2)\n",
        "ratio = 0.8\n",
        "n_train_examples = int(len(train_data) * ratio)\n",
        "n_val_examples = len(train_data) - n_train_examples\n",
        "\n",
        "train_data, val_data = data.random_split(train_data, [n_train_examples, n_val_examples])\n",
        "\n",
        "print(f\"Number of training samples = {len(train_data)}\")\n",
        "print(f\"Number of validation samples = {len(val_data)}\")"
      ],
      "metadata": {
        "colab": {
          "base_uri": "https://localhost:8080/"
        },
        "id": "VxyRCaiL3uhJ",
        "outputId": "0dde71b7-ca1b-43d2-dd09-34d58448a11d"
      },
      "execution_count": 4,
      "outputs": [
        {
          "output_type": "stream",
          "name": "stdout",
          "text": [
            "Number of training samples = 31367\n",
            "Number of validation samples = 7842\n"
          ]
        }
      ]
    },
    {
      "cell_type": "code",
      "source": [
        "  import zipfile\n",
        "  zip_ref = zipfile.ZipFile('/content/data/GTSRB_Final_Training_Images.zip', 'r')\n",
        "  zip_ref.extractall('/content/data')\n",
        "  zip_ref.close()"
      ],
      "metadata": {
        "id": "SZhsdLzf4KRS"
      },
      "execution_count": 3,
      "outputs": []
    },
    {
      "cell_type": "code",
      "source": [
        "# Plot histogram for training and validation data\n",
        "\n",
        "train_hist = [0]*numClasses\n",
        "for i in train_data.indices:\n",
        "    tar = train_data.dataset.targets[i]\n",
        "    train_hist[tar] += 1\n",
        "    \n",
        "val_hist = [0]*numClasses\n",
        "for i in val_data.indices:\n",
        "    tar = val_data.dataset.targets[i]\n",
        "    val_hist[tar] += 1\n",
        "\n",
        "plt.bar(range(numClasses), train_hist, label=\"train\")\n",
        "plt.bar(range(numClasses), val_hist, label=\"val\")\n",
        "legend = plt.legend(loc='upper right', shadow=True)\n",
        "plt.title(\"Distribution Plot\")\n",
        "plt.xlabel(\"Class ID\")\n",
        "plt.ylabel(\"# of examples\")\n",
        "\n",
        "plt.savefig(\"train_val_split.png\", bbox_inches = 'tight', pad_inches=0.5)"
      ],
      "metadata": {
        "colab": {
          "base_uri": "https://localhost:8080/",
          "height": 295
        },
        "id": "NKWGhp0u4kyK",
        "outputId": "65750176-51a2-4efa-94ea-e2addef7e9b1"
      },
      "execution_count": 5,
      "outputs": [
        {
          "output_type": "display_data",
          "data": {
            "text/plain": [
              "<Figure size 432x288 with 1 Axes>"
            ],
            "image/png": "[encoded data removed]"
          },
          "metadata": {
            "needs_background": "light"
          }
        }
      ]
    },
    {
      "cell_type": "code",
      "source": [
        "# Create data loader for training and validation\n",
        "\n",
        "train_loader = data.DataLoader(train_data, shuffle=True, batch_size = BATCH_SIZE)\n",
        "val_loader = data.DataLoader(val_data, shuffle=True, batch_size = BATCH_SIZE)\n",
        "print(len(train_loader))"
      ],
      "metadata": {
        "colab": {
          "base_uri": "https://localhost:8080/"
        },
        "id": "SM6XjJcd4yzN",
        "outputId": "0a3347e3-44c2-496f-a3cd-b2c786b19863"
      },
      "execution_count": 24,
      "outputs": [
        {
          "output_type": "stream",
          "name": "stdout",
          "text": [
            "123\n"
          ]
        }
      ]
    },
    {
      "cell_type": "code",
      "source": [
        "# Function to count the number of parameters in the model\n",
        "\n",
        "def count_parameters(model):\n",
        "    return sum(p.numel() for p in model.parameters() if p.requires_grad)"
      ],
      "metadata": {
        "id": "AYZ4hIl5427-"
      },
      "execution_count": 7,
      "outputs": []
    },
    {
      "cell_type": "code",
      "source": [
        "# Initialize the model\n",
        "# The model is defined in the class AlexnetTS in the file class_alexnetTS.py\n",
        "\n",
        "from class_alexnetTS import AlexnetTS\n",
        "model = AlexnetTS(numClasses)\n",
        "print(f'The model has {count_parameters(model):,} trainable parameters')"
      ],
      "metadata": {
        "colab": {
          "base_uri": "https://localhost:8080/"
        },
        "id": "tXudV8xS46fQ",
        "outputId": "4b8f5e1f-3f0c-4dd2-fc00-49e487c9fc6c"
      },
      "execution_count": 8,
      "outputs": [
        {
          "output_type": "stream",
          "name": "stdout",
          "text": [
            "The model has 15,063,891 trainable parameters\n"
          ]
        }
      ]
    },
    {
      "cell_type": "code",
      "source": [
        "# Define optimizer and criterion functions\n",
        "\n",
        "optimizer = optim.Adam(model.parameters(), lr=learning_rate)\n",
        "criterion = nn.CrossEntropyLoss()"
      ],
      "metadata": {
        "id": "J1SNeZZt5QZI"
      },
      "execution_count": 9,
      "outputs": []
    },
    {
      "cell_type": "code",
      "source": [
        "# If CUDA is available, convert model and loss to cuda variables\n",
        "\n",
        "if torch.cuda.is_available():\n",
        "    model = model.cuda()\n",
        "    criterion = criterion.cuda()\n",
        "\n",
        "print(torch.cuda.is_available())"
      ],
      "metadata": {
        "colab": {
          "base_uri": "https://localhost:8080/"
        },
        "id": "fCE5bF6h5S70",
        "outputId": "fd4bf99d-1a88-42d8-85a1-d0b3009ccb55"
      },
      "execution_count": 10,
      "outputs": [
        {
          "output_type": "stream",
          "name": "stdout",
          "text": [
            "True\n"
          ]
        }
      ]
    },
    {
      "cell_type": "code",
      "source": [
        "# Print model\n",
        "\n",
        "print(model)"
      ],
      "metadata": {
        "colab": {
          "base_uri": "https://localhost:8080/"
        },
        "id": "zljttiuk6Fob",
        "outputId": "a1649875-6414-442a-b1c2-023a809eee35"
      },
      "execution_count": 12,
      "outputs": [
        {
          "output_type": "stream",
          "name": "stdout",
          "text": [
            "AlexnetTS(\n",
            "  (features): Sequential(\n",
            "    (0): Conv2d(3, 64, kernel_size=(3, 3), stride=(2, 2), padding=(1, 1))\n",
            "    (1): MaxPool2d(kernel_size=2, stride=2, padding=0, dilation=1, ceil_mode=False)\n",
            "    (2): ReLU(inplace=True)\n",
            "    (3): Conv2d(64, 192, kernel_size=(3, 3), stride=(1, 1), padding=(1, 1))\n",
            "    (4): MaxPool2d(kernel_size=2, stride=2, padding=0, dilation=1, ceil_mode=False)\n",
            "    (5): ReLU(inplace=True)\n",
            "    (6): Conv2d(192, 384, kernel_size=(3, 3), stride=(1, 1), padding=(1, 1))\n",
            "    (7): ReLU(inplace=True)\n",
            "    (8): Conv2d(384, 256, kernel_size=(3, 3), stride=(1, 1), padding=(1, 1))\n",
            "    (9): ReLU(inplace=True)\n",
            "    (10): Conv2d(256, 256, kernel_size=(3, 3), stride=(1, 1), padding=(1, 1))\n",
            "    (11): MaxPool2d(kernel_size=2, stride=2, padding=0, dilation=1, ceil_mode=False)\n",
            "    (12): ReLU(inplace=True)\n",
            "  )\n",
            "  (classifier): Sequential(\n",
            "    (0): Dropout(p=0.5, inplace=False)\n",
            "    (1): Linear(in_features=12544, out_features=1000, bias=True)\n",
            "    (2): ReLU(inplace=True)\n",
            "    (3): Dropout(p=0.5, inplace=False)\n",
            "    (4): Linear(in_features=1000, out_features=256, bias=True)\n",
            "    (5): ReLU(inplace=True)\n",
            "    (6): Linear(in_features=256, out_features=43, bias=True)\n",
            "  )\n",
            ")\n"
          ]
        }
      ]
    },
    {
      "cell_type": "code",
      "source": [
        "# Print summary of the model for the given dimension of the image\n",
        "\n",
        "print(summary(model, (3, 112, 112))) "
      ],
      "metadata": {
        "colab": {
          "base_uri": "https://localhost:8080/"
        },
        "id": "FQt3mAMp6JoY",
        "outputId": "a20a6f94-fe8a-466a-bfd3-f1d684fefd0b"
      },
      "execution_count": 13,
      "outputs": [
        {
          "output_type": "stream",
          "name": "stdout",
          "text": [
            "----------------------------------------------------------------\n",
            "        Layer (type)               Output Shape         Param #\n",
            "================================================================\n",
            "            Conv2d-1           [-1, 64, 56, 56]           1,792\n",
            "         MaxPool2d-2           [-1, 64, 28, 28]               0\n",
            "              ReLU-3           [-1, 64, 28, 28]               0\n",
            "            Conv2d-4          [-1, 192, 28, 28]         110,784\n",
            "         MaxPool2d-5          [-1, 192, 14, 14]               0\n",
            "              ReLU-6          [-1, 192, 14, 14]               0\n",
            "            Conv2d-7          [-1, 384, 14, 14]         663,936\n",
            "              ReLU-8          [-1, 384, 14, 14]               0\n",
            "            Conv2d-9          [-1, 256, 14, 14]         884,992\n",
            "             ReLU-10          [-1, 256, 14, 14]               0\n",
            "           Conv2d-11          [-1, 256, 14, 14]         590,080\n",
            "        MaxPool2d-12            [-1, 256, 7, 7]               0\n",
            "             ReLU-13            [-1, 256, 7, 7]               0\n",
            "          Dropout-14                [-1, 12544]               0\n",
            "           Linear-15                 [-1, 1000]      12,545,000\n",
            "             ReLU-16                 [-1, 1000]               0\n",
            "          Dropout-17                 [-1, 1000]               0\n",
            "           Linear-18                  [-1, 256]         256,256\n",
            "             ReLU-19                  [-1, 256]               0\n",
            "           Linear-20                   [-1, 43]          11,051\n",
            "================================================================\n",
            "Total params: 15,063,891\n",
            "Trainable params: 15,063,891\n",
            "Non-trainable params: 0\n",
            "----------------------------------------------------------------\n",
            "Input size (MB): 0.14\n",
            "Forward/backward pass size (MB): 6.63\n",
            "Params size (MB): 57.46\n",
            "Estimated Total Size (MB): 64.24\n",
            "----------------------------------------------------------------\n",
            "None\n"
          ]
        }
      ]
    },
    {
      "cell_type": "code",
      "source": [
        "print(\"Model's state dict:\")\n",
        "for param_tensor in model.state_dict():\n",
        "    print(param_tensor, \"\\t\", model.state_dict()[param_tensor].size())\n",
        "print(\"\")"
      ],
      "metadata": {
        "colab": {
          "base_uri": "https://localhost:8080/"
        },
        "id": "jN7h1jqT6ThE",
        "outputId": "a9a022b5-e961-427b-ae24-dc72697eaf8e"
      },
      "execution_count": 14,
      "outputs": [
        {
          "output_type": "stream",
          "name": "stdout",
          "text": [
            "Model's state dict:\n",
            "features.0.weight \t torch.Size([64, 3, 3, 3])\n",
            "features.0.bias \t torch.Size([64])\n",
            "features.3.weight \t torch.Size([192, 64, 3, 3])\n",
            "features.3.bias \t torch.Size([192])\n",
            "features.6.weight \t torch.Size([384, 192, 3, 3])\n",
            "features.6.bias \t torch.Size([384])\n",
            "features.8.weight \t torch.Size([256, 384, 3, 3])\n",
            "features.8.bias \t torch.Size([256])\n",
            "features.10.weight \t torch.Size([256, 256, 3, 3])\n",
            "features.10.bias \t torch.Size([256])\n",
            "classifier.1.weight \t torch.Size([1000, 12544])\n",
            "classifier.1.bias \t torch.Size([1000])\n",
            "classifier.4.weight \t torch.Size([256, 1000])\n",
            "classifier.4.bias \t torch.Size([256])\n",
            "classifier.6.weight \t torch.Size([43, 256])\n",
            "classifier.6.bias \t torch.Size([43])\n",
            "\n"
          ]
        }
      ]
    },
    {
      "cell_type": "code",
      "source": [
        "\n",
        "# Function to perform training of the model\n",
        "def train(model, loader, opt, criterion):\n",
        "    epoch_loss = 0\n",
        "    epoch_acc = 0\n",
        "    \n",
        "    # Train the model\n",
        "    model.train()\n",
        "    \n",
        "    for (images, labels) in loader:\n",
        "        images = images.cuda()\n",
        "        labels = labels.cuda()\n",
        "        \n",
        "        # Training pass\n",
        "        opt.zero_grad()\n",
        "        \n",
        "        output, _ = model(images)\n",
        "        loss = criterion(output, labels)\n",
        "        \n",
        "        # Backpropagation\n",
        "        loss.backward()\n",
        "        \n",
        "        # Calculate accuracy\n",
        "        acc = calculate_accuracy(output, labels)\n",
        "        \n",
        "        # Optimizing weights\n",
        "        opt.step()\n",
        "        \n",
        "        epoch_loss += loss.item()\n",
        "        epoch_acc += acc.item()\n",
        "        \n",
        "    return epoch_loss / len(loader), epoch_acc / len(loader)\n",
        "    \n",
        "    \n",
        "# Function to perform evaluation on the trained model\n",
        "def evaluate(model, loader, opt, criterion):\n",
        "    epoch_loss = 0\n",
        "    epoch_acc = 0\n",
        "    \n",
        "    # Evaluate the model\n",
        "    model.eval()\n",
        "    \n",
        "    with torch.no_grad():\n",
        "        for (images, labels) in loader:\n",
        "            images = images.cuda()\n",
        "            labels = labels.cuda()\n",
        "            \n",
        "            # Run predictions\n",
        "            output, _ = model(images)\n",
        "            loss = criterion(output, labels)\n",
        "            \n",
        "            # Calculate accuracy\n",
        "            acc = calculate_accuracy(output, labels)\n",
        "            \n",
        "            epoch_loss += loss.item()\n",
        "            epoch_acc += acc.item()\n",
        "    \n",
        "    return epoch_loss / len(loader), epoch_acc / len(loader)\n",
        "    \n",
        "    \n",
        "# Perform training\n",
        "# List to save training and val loss and accuracies\n",
        "train_loss_list = [0]*EPOCHS\n",
        "train_acc_list = [0]*EPOCHS\n",
        "val_loss_list = [0]*EPOCHS\n",
        "val_acc_list = [0]*EPOCHS\n",
        "\n",
        "for epoch in range(EPOCHS):\n",
        "    print(\"Epoch-%d: \" % (epoch))\n",
        "\n",
        "    train_start_time = time.monotonic()\n",
        "    train_loss, train_acc = train(model, train_loader, optimizer, criterion)\n",
        "    train_end_time = time.monotonic()\n",
        "\n",
        "    val_start_time = time.monotonic()\n",
        "    val_loss, val_acc = evaluate(model, val_loader, optimizer, criterion)\n",
        "    val_end_time = time.monotonic()\n",
        "    \n",
        "    train_loss_list[epoch] = train_loss\n",
        "    train_acc_list[epoch] = train_acc\n",
        "    val_loss_list[epoch] = val_loss\n",
        "    val_acc_list[epoch] = val_acc\n",
        "    \n",
        "    print(\"Training: Loss = %.4f, Accuracy = %.4f, Time = %.2f seconds\" % (train_loss, train_acc, train_end_time - train_start_time))\n",
        "    print(\"Validation: Loss = %.4f, Accuracy = %.4f, Time = %.2f seconds\" % (val_loss, val_acc, val_end_time - val_start_time))\n",
        "    print(\"\")"
      ],
      "metadata": {
        "colab": {
          "base_uri": "https://localhost:8080/"
        },
        "id": "8kYkzbee6gm2",
        "outputId": "47d41f08-ccb1-4435-95ce-696b4f57acf3"
      },
      "execution_count": 28,
      "outputs": [
        {
          "output_type": "stream",
          "name": "stdout",
          "text": [
            "Epoch-0: \n",
            "Training: Loss = 0.1241, Accuracy = 0.9599, Time = 33.63 seconds\n",
            "Validation: Loss = 0.0635, Accuracy = 0.9832, Time = 5.64 seconds\n",
            "\n",
            "Epoch-1: \n",
            "Training: Loss = 0.0944, Accuracy = 0.9697, Time = 32.94 seconds\n",
            "Validation: Loss = 0.0595, Accuracy = 0.9857, Time = 6.20 seconds\n",
            "\n",
            "Epoch-2: \n",
            "Training: Loss = 0.0795, Accuracy = 0.9741, Time = 33.10 seconds\n",
            "Validation: Loss = 0.0494, Accuracy = 0.9860, Time = 6.03 seconds\n",
            "\n",
            "Epoch-3: \n",
            "Training: Loss = 0.0647, Accuracy = 0.9801, Time = 34.14 seconds\n",
            "Validation: Loss = 0.0398, Accuracy = 0.9903, Time = 5.64 seconds\n",
            "\n",
            "Epoch-4: \n",
            "Training: Loss = 0.0546, Accuracy = 0.9826, Time = 33.35 seconds\n",
            "Validation: Loss = 0.0409, Accuracy = 0.9909, Time = 5.58 seconds\n",
            "\n",
            "Epoch-5: \n",
            "Training: Loss = 0.0490, Accuracy = 0.9840, Time = 33.21 seconds\n",
            "Validation: Loss = 0.0354, Accuracy = 0.9909, Time = 5.65 seconds\n",
            "\n",
            "Epoch-6: \n",
            "Training: Loss = 0.0418, Accuracy = 0.9866, Time = 33.51 seconds\n",
            "Validation: Loss = 0.0351, Accuracy = 0.9930, Time = 5.67 seconds\n",
            "\n",
            "Epoch-7: \n",
            "Training: Loss = 0.0373, Accuracy = 0.9882, Time = 33.04 seconds\n",
            "Validation: Loss = 0.0337, Accuracy = 0.9914, Time = 5.69 seconds\n",
            "\n",
            "Epoch-8: \n",
            "Training: Loss = 0.0317, Accuracy = 0.9898, Time = 32.61 seconds\n",
            "Validation: Loss = 0.0332, Accuracy = 0.9931, Time = 6.14 seconds\n",
            "\n",
            "Epoch-9: \n",
            "Training: Loss = 0.0327, Accuracy = 0.9900, Time = 32.48 seconds\n",
            "Validation: Loss = 0.0317, Accuracy = 0.9943, Time = 5.60 seconds\n",
            "\n",
            "Epoch-10: \n",
            "Training: Loss = 0.0277, Accuracy = 0.9910, Time = 32.95 seconds\n",
            "Validation: Loss = 0.0365, Accuracy = 0.9927, Time = 5.64 seconds\n",
            "\n",
            "Epoch-11: \n",
            "Training: Loss = 0.0346, Accuracy = 0.9895, Time = 33.25 seconds\n",
            "Validation: Loss = 0.0305, Accuracy = 0.9939, Time = 5.58 seconds\n",
            "\n",
            "Epoch-12: \n",
            "Training: Loss = 0.0227, Accuracy = 0.9931, Time = 32.94 seconds\n",
            "Validation: Loss = 0.0333, Accuracy = 0.9936, Time = 5.58 seconds\n",
            "\n",
            "Epoch-13: \n",
            "Training: Loss = 0.0282, Accuracy = 0.9912, Time = 32.91 seconds\n",
            "Validation: Loss = 0.0254, Accuracy = 0.9948, Time = 5.55 seconds\n",
            "\n",
            "Epoch-14: \n",
            "Training: Loss = 0.0272, Accuracy = 0.9918, Time = 32.88 seconds\n",
            "Validation: Loss = 0.0273, Accuracy = 0.9948, Time = 5.77 seconds\n",
            "\n"
          ]
        }
      ]
    },
    {
      "cell_type": "code",
      "source": [
        "# Saving the model\n",
        "\n",
        "# Create folder to save model\n",
        "MODEL_FOLDER = \"/content/model\"\n",
        "if not os.path.isdir(MODEL_FOLDER):\n",
        "    os.mkdir(MODEL_FOLDER)\n",
        "    \n",
        "PATH_TO_MODEL = MODEL_FOLDER + \"/pytorch_classification_alexnetTS.pth\"\n",
        "if os.path.exists(PATH_TO_MODEL):\n",
        "    os.remove(PATH_TO_MODEL)\n",
        "torch.save(model.state_dict(), PATH_TO_MODEL)\n",
        "\n",
        "print(\"Model saved at %s\" %(PATH_TO_MODEL))"
      ],
      "metadata": {
        "colab": {
          "base_uri": "https://localhost:8080/"
        },
        "id": "e8Jfwqen_d2u",
        "outputId": "c350d4bd-62ec-47c2-f62a-6f815d3b1fc8"
      },
      "execution_count": 30,
      "outputs": [
        {
          "output_type": "stream",
          "name": "stdout",
          "text": [
            "Model saved at /content/model/pytorch_classification_alexnetTS.pth\n"
          ]
        }
      ]
    },
    {
      "cell_type": "code",
      "source": [
        "# Plot loss and accuracies for training and validation data\n",
        "\n",
        "_, axs = plt.subplots(1, 2, figsize=(15, 5))\n",
        "\n",
        "# Loss plot\n",
        "axs[0].plot(train_loss_list, label=\"train\")\n",
        "axs[0].plot(val_loss_list, label=\"val\")\n",
        "axs[0].set_title(\"Plot - Loss\")\n",
        "axs[0].set_xlabel(\"Epochs\")\n",
        "axs[0].set_ylabel(\"Loss\")\n",
        "legend = axs[0].legend(loc='upper right', shadow=False)\n",
        "\n",
        "# Accuracy plot\n",
        "axs[1].plot(train_acc_list, label=\"train\")\n",
        "axs[1].plot(val_acc_list, label=\"val\")\n",
        "axs[1].set_title(\"Plot - Accuracy\")\n",
        "axs[1].set_xlabel(\"Epochs\")\n",
        "axs[1].set_ylabel(\"Accuracy\")\n",
        "legend = axs[1].legend(loc='center right', shadow=True)"
      ],
      "metadata": {
        "colab": {
          "base_uri": "https://localhost:8080/",
          "height": 300
        },
        "id": "tkQS5Lah_yBf",
        "outputId": "4a10431a-e3e5-42bf-8a8f-9564574028de"
      },
      "execution_count": 31,
      "outputs": [
        {
          "output_type": "display_data",
          "data": {
            "text/plain": [
              "<Figure size 1080x360 with 2 Axes>"
            ],
            "image/png": "[encoded data removed]"
          },
          "metadata": {
            "needs_background": "light"
          }
        }
      ]
    },
    {
      "cell_type": "code",
      "source": [
        "!wget https://sid.erda.dk/public/archives/daaeac0d7ce1152aea9b61d9f1e19370/GTSRB_Final_Test_Images.zip"
      ],
      "metadata": {
        "colab": {
          "base_uri": "https://localhost:8080/"
        },
        "id": "846eV12sBm3u",
        "outputId": "45d4acf2-10d9-4bc7-b2b7-59440856a22f"
      },
      "execution_count": 32,
      "outputs": [
        {
          "output_type": "stream",
          "name": "stdout",
          "text": [
            "--2022-11-12 08:48:58--  https://sid.erda.dk/public/archives/daaeac0d7ce1152aea9b61d9f1e19370/GTSRB_Final_Test_Images.zip\n",
            "Resolving sid.erda.dk (sid.erda.dk)... 130.225.104.13\n",
            "Connecting to sid.erda.dk (sid.erda.dk)|130.225.104.13|:443... connected.\n",
            "HTTP request sent, awaiting response... 200 OK\n",
            "Length: 88978620 (85M) [application/zip]\n",
            "Saving to: ‘GTSRB_Final_Test_Images.zip’\n",
            "\n",
            "GTSRB_Final_Test_Im 100%[===================>]  84.86M  13.4MB/s    in 7.9s    \n",
            "\n",
            "2022-11-12 08:49:07 (10.7 MB/s) - ‘GTSRB_Final_Test_Images.zip’ saved [88978620/88978620]\n",
            "\n"
          ]
        }
      ]
    },
    {
      "cell_type": "code",
      "source": [
        "import zipfile\n",
        "zip_ref = zipfile.ZipFile('/content/data/GTSRB_Final_Test_Images.zip', 'r')\n",
        "zip_ref.extractall('/content/data/test')\n",
        "zip_ref.close()"
      ],
      "metadata": {
        "id": "N6twaxMVB9v-"
      },
      "execution_count": 58,
      "outputs": []
    },
    {
      "cell_type": "code",
      "source": [
        "import zipfile\n",
        "zip_ref = zipfile.ZipFile('/content/data/GTSRB_Final_Test_GT.zip', 'r')\n",
        "zip_ref.extractall('/content/data/')\n",
        "zip_ref.close()"
      ],
      "metadata": {
        "id": "5O2cKcPPCx5l"
      },
      "execution_count": 35,
      "outputs": []
    },
    {
      "cell_type": "code",
      "source": [
        "!pwd"
      ],
      "metadata": {
        "colab": {
          "base_uri": "https://localhost:8080/"
        },
        "id": "Zfpl2JQtDlxL",
        "outputId": "ed576568-9f23-4338-ae51-cac4fc56b8b5"
      },
      "execution_count": 61,
      "outputs": [
        {
          "output_type": "stream",
          "name": "stdout",
          "text": [
            "/content\n"
          ]
        }
      ]
    },
    {
      "cell_type": "code",
      "source": [
        "!python test.py"
      ],
      "metadata": {
        "colab": {
          "base_uri": "https://localhost:8080/"
        },
        "id": "NbqeSXBGDpzA",
        "outputId": "ed283713-7d42-4e24-f0fe-3a412ecedec2"
      },
      "execution_count": 69,
      "outputs": [
        {
          "output_type": "stream",
          "name": "stdout",
          "text": [
            "List of labels : \n",
            "Actual labels \t--> Class in PyTorch\n",
            "\t0 \t--> \t0\n",
            "\t1 \t--> \t1\n",
            "\t10 \t--> \t2\n",
            "\t11 \t--> \t3\n",
            "\t12 \t--> \t4\n",
            "\t13 \t--> \t5\n",
            "\t14 \t--> \t6\n",
            "\t15 \t--> \t7\n",
            "\t16 \t--> \t8\n",
            "\t17 \t--> \t9\n",
            "\t18 \t--> \t10\n",
            "\t19 \t--> \t11\n",
            "\t2 \t--> \t12\n",
            "\t20 \t--> \t13\n",
            "\t21 \t--> \t14\n",
            "\t22 \t--> \t15\n",
            "\t23 \t--> \t16\n",
            "\t24 \t--> \t17\n",
            "\t25 \t--> \t18\n",
            "\t26 \t--> \t19\n",
            "\t27 \t--> \t20\n",
            "\t28 \t--> \t21\n",
            "\t29 \t--> \t22\n",
            "\t3 \t--> \t23\n",
            "\t30 \t--> \t24\n",
            "\t31 \t--> \t25\n",
            "\t32 \t--> \t26\n",
            "\t33 \t--> \t27\n",
            "\t34 \t--> \t28\n",
            "\t35 \t--> \t29\n",
            "\t36 \t--> \t30\n",
            "\t37 \t--> \t31\n",
            "\t38 \t--> \t32\n",
            "\t39 \t--> \t33\n",
            "\t4 \t--> \t34\n",
            "\t40 \t--> \t35\n",
            "\t41 \t--> \t36\n",
            "\t42 \t--> \t37\n",
            "\t5 \t--> \t38\n",
            "\t6 \t--> \t39\n",
            "\t7 \t--> \t40\n",
            "\t8 \t--> \t41\n",
            "\t9 \t--> \t42\n",
            "Number of correctly classified images = 773\n",
            "Number of incorrectly classified images = 11857\n",
            "Final accuracy = 0.061203\n",
            "              precision    recall  f1-score   support\n",
            "\n",
            "           0       0.98      1.00      0.99        60\n",
            "           1       0.98      0.99      0.98       720\n",
            "           2       0.00      0.00      0.00       750\n",
            "           3       0.00      0.00      0.00       450\n",
            "           4       0.00      0.00      0.00       660\n",
            "           5       0.00      0.00      0.00       630\n",
            "           6       0.00      0.00      0.00       150\n",
            "           7       0.00      0.00      0.00       450\n",
            "           8       0.00      0.00      0.00       450\n",
            "           9       0.00      0.00      0.00       480\n",
            "          10       0.00      0.00      0.00       660\n",
            "          11       0.00      0.00      0.00       420\n",
            "          12       0.00      0.00      0.00       690\n",
            "          13       0.00      0.00      0.00       720\n",
            "          14       0.00      0.00      0.00       270\n",
            "          15       0.00      0.00      0.00       210\n",
            "          16       0.00      0.00      0.00       150\n",
            "          17       0.00      0.00      0.00       360\n",
            "          18       0.00      0.00      0.00       390\n",
            "          19       0.00      0.00      0.00        60\n",
            "          20       0.00      0.00      0.00        90\n",
            "          21       0.00      0.00      0.00        90\n",
            "          22       0.00      0.00      0.00       120\n",
            "          23       0.00      0.00      0.00       150\n",
            "          24       0.00      0.00      0.00        90\n",
            "          25       0.00      0.00      0.00       480\n",
            "          26       0.00      0.00      0.00       180\n",
            "          27       0.00      0.00      0.00        60\n",
            "          28       0.00      0.00      0.00       150\n",
            "          29       0.00      0.00      0.00        90\n",
            "          30       0.00      0.00      0.00       150\n",
            "          31       0.00      0.00      0.00       270\n",
            "          32       0.00      0.00      0.00        60\n",
            "          33       0.00      0.00      0.00       210\n",
            "          34       0.00      0.00      0.00       120\n",
            "          35       0.00      0.00      0.00       390\n",
            "          36       0.00      0.00      0.00       120\n",
            "          37       0.00      0.00      0.00        60\n",
            "          38       0.00      0.00      0.00       690\n",
            "          39       0.01      0.02      0.01        90\n",
            "          40       0.00      0.00      0.00        90\n",
            "          41       0.00      0.00      0.00        60\n",
            "          42       0.00      0.00      0.00        90\n",
            "\n",
            "    accuracy                           0.06     12630\n",
            "   macro avg       0.05      0.05      0.05     12630\n",
            "weighted avg       0.06      0.06      0.06     12630\n",
            "\n",
            "Test/00000.png\n",
            "Test\n",
            "Traceback (most recent call last):\n",
            "  File \"test.py\", line 129, in <module>\n",
            "    img = Image.open(imgName)\n",
            "  File \"/usr/local/lib/python3.7/dist-packages/PIL/Image.py\", line 2843, in open\n",
            "    fp = builtins.open(filename, \"rb\")\n",
            "FileNotFoundError: [Errno 2] No such file or directory: '/content/data/test/gtsrb/GTSRB/Final_Test/Images/00000.png'\n"
          ]
        }
      ]
    },
    {
      "cell_type": "code",
      "source": [
        "import shutil\n",
        "\n",
        "shutil.rmtree('/content/data/test/GTSRB')"
      ],
      "metadata": {
        "id": "m0aoh9ClKzXT"
      },
      "execution_count": 64,
      "outputs": []
    }
  ]
}